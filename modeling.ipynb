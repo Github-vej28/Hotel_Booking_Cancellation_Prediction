{
 "cells": [
  {
   "cell_type": "code",
   "execution_count": 250,
   "id": "0448be02",
   "metadata": {},
   "outputs": [
    {
     "data": {
      "text/html": [
       "<div>\n",
       "<style scoped>\n",
       "    .dataframe tbody tr th:only-of-type {\n",
       "        vertical-align: middle;\n",
       "    }\n",
       "\n",
       "    .dataframe tbody tr th {\n",
       "        vertical-align: top;\n",
       "    }\n",
       "\n",
       "    .dataframe thead th {\n",
       "        text-align: right;\n",
       "    }\n",
       "</style>\n",
       "<table border=\"1\" class=\"dataframe\">\n",
       "  <thead>\n",
       "    <tr style=\"text-align: right;\">\n",
       "      <th></th>\n",
       "      <th>IsCanceled</th>\n",
       "      <th>LeadTime</th>\n",
       "      <th>ArrivalDateYear</th>\n",
       "      <th>ArrivalDateWeekNumber</th>\n",
       "      <th>ArrivalDateDayOfMonth</th>\n",
       "      <th>StaysInWeekendNights</th>\n",
       "      <th>StaysInWeekNights</th>\n",
       "      <th>Adults</th>\n",
       "      <th>Children</th>\n",
       "      <th>Babies</th>\n",
       "      <th>IsRepeatedGuest</th>\n",
       "      <th>PreviousCancellations</th>\n",
       "      <th>PreviousBookingsNotCanceled</th>\n",
       "      <th>BookingChanges</th>\n",
       "      <th>DaysInWaitingList</th>\n",
       "      <th>ADR</th>\n",
       "      <th>RequiredCarParkingSpaces</th>\n",
       "      <th>TotalOfSpecialRequests</th>\n",
       "    </tr>\n",
       "  </thead>\n",
       "  <tbody>\n",
       "    <tr>\n",
       "      <th>count</th>\n",
       "      <td>119390.000000</td>\n",
       "      <td>119390.000000</td>\n",
       "      <td>119390.000000</td>\n",
       "      <td>119390.000000</td>\n",
       "      <td>119390.000000</td>\n",
       "      <td>119390.000000</td>\n",
       "      <td>119390.000000</td>\n",
       "      <td>119390.000000</td>\n",
       "      <td>119386.000000</td>\n",
       "      <td>119390.000000</td>\n",
       "      <td>119390.000000</td>\n",
       "      <td>119390.000000</td>\n",
       "      <td>119390.000000</td>\n",
       "      <td>119390.000000</td>\n",
       "      <td>119390.000000</td>\n",
       "      <td>119390.000000</td>\n",
       "      <td>119390.000000</td>\n",
       "      <td>119390.000000</td>\n",
       "    </tr>\n",
       "    <tr>\n",
       "      <th>mean</th>\n",
       "      <td>0.370416</td>\n",
       "      <td>104.011416</td>\n",
       "      <td>2016.156554</td>\n",
       "      <td>27.165173</td>\n",
       "      <td>15.798241</td>\n",
       "      <td>0.927599</td>\n",
       "      <td>2.500302</td>\n",
       "      <td>1.856403</td>\n",
       "      <td>0.103890</td>\n",
       "      <td>0.007949</td>\n",
       "      <td>0.031912</td>\n",
       "      <td>0.087118</td>\n",
       "      <td>0.137097</td>\n",
       "      <td>0.221124</td>\n",
       "      <td>2.321149</td>\n",
       "      <td>101.831122</td>\n",
       "      <td>0.062518</td>\n",
       "      <td>0.571363</td>\n",
       "    </tr>\n",
       "    <tr>\n",
       "      <th>std</th>\n",
       "      <td>0.482918</td>\n",
       "      <td>106.863097</td>\n",
       "      <td>0.707476</td>\n",
       "      <td>13.605138</td>\n",
       "      <td>8.780829</td>\n",
       "      <td>0.998613</td>\n",
       "      <td>1.908286</td>\n",
       "      <td>0.579261</td>\n",
       "      <td>0.398561</td>\n",
       "      <td>0.097436</td>\n",
       "      <td>0.175767</td>\n",
       "      <td>0.844336</td>\n",
       "      <td>1.497437</td>\n",
       "      <td>0.652306</td>\n",
       "      <td>17.594721</td>\n",
       "      <td>50.535790</td>\n",
       "      <td>0.245291</td>\n",
       "      <td>0.792798</td>\n",
       "    </tr>\n",
       "    <tr>\n",
       "      <th>min</th>\n",
       "      <td>0.000000</td>\n",
       "      <td>0.000000</td>\n",
       "      <td>2015.000000</td>\n",
       "      <td>1.000000</td>\n",
       "      <td>1.000000</td>\n",
       "      <td>0.000000</td>\n",
       "      <td>0.000000</td>\n",
       "      <td>0.000000</td>\n",
       "      <td>0.000000</td>\n",
       "      <td>0.000000</td>\n",
       "      <td>0.000000</td>\n",
       "      <td>0.000000</td>\n",
       "      <td>0.000000</td>\n",
       "      <td>0.000000</td>\n",
       "      <td>0.000000</td>\n",
       "      <td>-6.380000</td>\n",
       "      <td>0.000000</td>\n",
       "      <td>0.000000</td>\n",
       "    </tr>\n",
       "    <tr>\n",
       "      <th>25%</th>\n",
       "      <td>0.000000</td>\n",
       "      <td>18.000000</td>\n",
       "      <td>2016.000000</td>\n",
       "      <td>16.000000</td>\n",
       "      <td>8.000000</td>\n",
       "      <td>0.000000</td>\n",
       "      <td>1.000000</td>\n",
       "      <td>2.000000</td>\n",
       "      <td>0.000000</td>\n",
       "      <td>0.000000</td>\n",
       "      <td>0.000000</td>\n",
       "      <td>0.000000</td>\n",
       "      <td>0.000000</td>\n",
       "      <td>0.000000</td>\n",
       "      <td>0.000000</td>\n",
       "      <td>69.290000</td>\n",
       "      <td>0.000000</td>\n",
       "      <td>0.000000</td>\n",
       "    </tr>\n",
       "    <tr>\n",
       "      <th>50%</th>\n",
       "      <td>0.000000</td>\n",
       "      <td>69.000000</td>\n",
       "      <td>2016.000000</td>\n",
       "      <td>28.000000</td>\n",
       "      <td>16.000000</td>\n",
       "      <td>1.000000</td>\n",
       "      <td>2.000000</td>\n",
       "      <td>2.000000</td>\n",
       "      <td>0.000000</td>\n",
       "      <td>0.000000</td>\n",
       "      <td>0.000000</td>\n",
       "      <td>0.000000</td>\n",
       "      <td>0.000000</td>\n",
       "      <td>0.000000</td>\n",
       "      <td>0.000000</td>\n",
       "      <td>94.575000</td>\n",
       "      <td>0.000000</td>\n",
       "      <td>0.000000</td>\n",
       "    </tr>\n",
       "    <tr>\n",
       "      <th>75%</th>\n",
       "      <td>1.000000</td>\n",
       "      <td>160.000000</td>\n",
       "      <td>2017.000000</td>\n",
       "      <td>38.000000</td>\n",
       "      <td>23.000000</td>\n",
       "      <td>2.000000</td>\n",
       "      <td>3.000000</td>\n",
       "      <td>2.000000</td>\n",
       "      <td>0.000000</td>\n",
       "      <td>0.000000</td>\n",
       "      <td>0.000000</td>\n",
       "      <td>0.000000</td>\n",
       "      <td>0.000000</td>\n",
       "      <td>0.000000</td>\n",
       "      <td>0.000000</td>\n",
       "      <td>126.000000</td>\n",
       "      <td>0.000000</td>\n",
       "      <td>1.000000</td>\n",
       "    </tr>\n",
       "    <tr>\n",
       "      <th>max</th>\n",
       "      <td>1.000000</td>\n",
       "      <td>737.000000</td>\n",
       "      <td>2017.000000</td>\n",
       "      <td>53.000000</td>\n",
       "      <td>31.000000</td>\n",
       "      <td>19.000000</td>\n",
       "      <td>50.000000</td>\n",
       "      <td>55.000000</td>\n",
       "      <td>10.000000</td>\n",
       "      <td>10.000000</td>\n",
       "      <td>1.000000</td>\n",
       "      <td>26.000000</td>\n",
       "      <td>72.000000</td>\n",
       "      <td>21.000000</td>\n",
       "      <td>391.000000</td>\n",
       "      <td>5400.000000</td>\n",
       "      <td>8.000000</td>\n",
       "      <td>5.000000</td>\n",
       "    </tr>\n",
       "  </tbody>\n",
       "</table>\n",
       "</div>"
      ],
      "text/plain": [
       "          IsCanceled       LeadTime  ArrivalDateYear  ArrivalDateWeekNumber  \\\n",
       "count  119390.000000  119390.000000    119390.000000          119390.000000   \n",
       "mean        0.370416     104.011416      2016.156554              27.165173   \n",
       "std         0.482918     106.863097         0.707476              13.605138   \n",
       "min         0.000000       0.000000      2015.000000               1.000000   \n",
       "25%         0.000000      18.000000      2016.000000              16.000000   \n",
       "50%         0.000000      69.000000      2016.000000              28.000000   \n",
       "75%         1.000000     160.000000      2017.000000              38.000000   \n",
       "max         1.000000     737.000000      2017.000000              53.000000   \n",
       "\n",
       "       ArrivalDateDayOfMonth  StaysInWeekendNights  StaysInWeekNights  \\\n",
       "count          119390.000000         119390.000000      119390.000000   \n",
       "mean               15.798241              0.927599           2.500302   \n",
       "std                 8.780829              0.998613           1.908286   \n",
       "min                 1.000000              0.000000           0.000000   \n",
       "25%                 8.000000              0.000000           1.000000   \n",
       "50%                16.000000              1.000000           2.000000   \n",
       "75%                23.000000              2.000000           3.000000   \n",
       "max                31.000000             19.000000          50.000000   \n",
       "\n",
       "              Adults       Children         Babies  IsRepeatedGuest  \\\n",
       "count  119390.000000  119386.000000  119390.000000    119390.000000   \n",
       "mean        1.856403       0.103890       0.007949         0.031912   \n",
       "std         0.579261       0.398561       0.097436         0.175767   \n",
       "min         0.000000       0.000000       0.000000         0.000000   \n",
       "25%         2.000000       0.000000       0.000000         0.000000   \n",
       "50%         2.000000       0.000000       0.000000         0.000000   \n",
       "75%         2.000000       0.000000       0.000000         0.000000   \n",
       "max        55.000000      10.000000      10.000000         1.000000   \n",
       "\n",
       "       PreviousCancellations  PreviousBookingsNotCanceled  BookingChanges  \\\n",
       "count          119390.000000                119390.000000   119390.000000   \n",
       "mean                0.087118                     0.137097        0.221124   \n",
       "std                 0.844336                     1.497437        0.652306   \n",
       "min                 0.000000                     0.000000        0.000000   \n",
       "25%                 0.000000                     0.000000        0.000000   \n",
       "50%                 0.000000                     0.000000        0.000000   \n",
       "75%                 0.000000                     0.000000        0.000000   \n",
       "max                26.000000                    72.000000       21.000000   \n",
       "\n",
       "       DaysInWaitingList            ADR  RequiredCarParkingSpaces  \\\n",
       "count      119390.000000  119390.000000             119390.000000   \n",
       "mean            2.321149     101.831122                  0.062518   \n",
       "std            17.594721      50.535790                  0.245291   \n",
       "min             0.000000      -6.380000                  0.000000   \n",
       "25%             0.000000      69.290000                  0.000000   \n",
       "50%             0.000000      94.575000                  0.000000   \n",
       "75%             0.000000     126.000000                  0.000000   \n",
       "max           391.000000    5400.000000                  8.000000   \n",
       "\n",
       "       TotalOfSpecialRequests  \n",
       "count           119390.000000  \n",
       "mean                 0.571363  \n",
       "std                  0.792798  \n",
       "min                  0.000000  \n",
       "25%                  0.000000  \n",
       "50%                  0.000000  \n",
       "75%                  1.000000  \n",
       "max                  5.000000  "
      ]
     },
     "execution_count": 250,
     "metadata": {},
     "output_type": "execute_result"
    }
   ],
   "source": [
    "import numpy as np\n",
    "import pandas as pd\n",
    "\n",
    "h1 = pd.read_csv(\"H1.csv\")\n",
    "h1[\"HotelType\"] = \"Resort\"\n",
    "h2 = pd.read_csv(\"H2.csv\")\n",
    "h2[\"HotelType\"] = \"City\"\n",
    "booking = pd.concat([h1, h2], ignore_index=True)\n",
    "booking.describe()"
   ]
  },
  {
   "cell_type": "code",
   "execution_count": 251,
   "id": "01b15754",
   "metadata": {},
   "outputs": [],
   "source": [
    "# Trimming the ending space at the end of string values\n",
    "for col in booking.select_dtypes(include='object'):\n",
    "    booking[col] = booking[col].str.strip()\n",
    "    \n",
    "# Drop row with missing country\n",
    "booking.dropna(subset=['Country'], inplace=True)\n",
    "    \n",
    "# Fill missing values\n",
    "booking['Children'].fillna(0, inplace=True)\n",
    "cols = ['Company', 'Agent']\n",
    "for col in cols:\n",
    "    booking[col] = booking[col].replace('NULL', 0)\n",
    "\n",
    "# Replace type\n",
    "booking['Children'] = booking['Children'].astype(np.int64)\n",
    "booking['Company'] = booking['Company'].astype(np.int64)\n",
    "booking['Agent'] = booking['Agent'].astype(np.int64)\n",
    "\n",
    "# Replace inconsitent data \n",
    "booking[\"Meal\"].replace([\"Undefined\"], \"SC\", inplace=True)\n",
    "\n",
    "booking.loc[booking[\"ADR\"] < 0, \"ADR\"] = 0\n",
    "booking.loc[(booking[\"IsRepeatedGuest\"] == 0) & (booking[\"PreviousBookingsNotCanceled\"] + booking[\"PreviousCancellations\"] > 0), \"IsRepeatedGuest\"] = 1\n",
    "\n",
    "# Delete records with 0 guests\n",
    "booking = booking[(booking['Adults'] + booking['Children'] + booking['Babies']) > 0]\n",
    "\n",
    "# Delete records with 0 night stay\n",
    "booking = booking[booking[\"StaysInWeekendNights\"] + booking[\"StaysInWeekNights\"] > 0]"
   ]
  },
  {
   "cell_type": "markdown",
   "id": "56231abd",
   "metadata": {},
   "source": [
    "## Feature Engineering"
   ]
  },
  {
   "cell_type": "markdown",
   "id": "663bb9ce",
   "metadata": {},
   "source": [
    "Ta sẽ xử lý các cột không phải là số."
   ]
  },
  {
   "cell_type": "markdown",
   "id": "07632f7c",
   "metadata": {},
   "source": [
    "1. Loại bỏ giá trị lớn nhất của cột **LeadTime** vì là outlier"
   ]
  },
  {
   "cell_type": "code",
   "execution_count": 253,
   "id": "6595fd72",
   "metadata": {},
   "outputs": [],
   "source": [
    "booking = booking[booking.LeadTime < 700]\n",
    "booking = booking.reset_index(drop=True)"
   ]
  },
  {
   "cell_type": "markdown",
   "id": "5ed0074c",
   "metadata": {},
   "source": [
    "2. Cột **Country** có quá nhiều unique value, ta sẽ map cột country với xác suất người thuộc đất nước đó huỷ booking, đồng thời bỏ các dòng giá trị nan"
   ]
  },
  {
   "cell_type": "code",
   "execution_count": 320,
   "id": "406fa68c",
   "metadata": {},
   "outputs": [],
   "source": [
    "def map_country_column(booking, label):\n",
    "    vc_all = booking.loc[:, 42].value_counts()\n",
    "    vc_pos = booking[label==1].loc[:, 42].value_counts()\n",
    "\n",
    "    country_map = {}\n",
    "\n",
    "    for key in vc_all.keys():\n",
    "        count_pos = vc_pos.get(key, default=0)\n",
    "        country_map[key] = count_pos / vc_all.get(key)\n",
    "\n",
    "    booking.loc[:, 42] = booking.loc[:, 42].map(country_map)\n",
    "    return booking\n",
    "\n",
    "from sklearn.base import BaseEstimator, TransformerMixin\n",
    "\n",
    "class MapCountryColumn(BaseEstimator, TransformerMixin):\n",
    "    def __init__(self): # no *args or **kargs\n",
    "        self.country_map = {}\n",
    "        \n",
    "    def fit(self, X, y):\n",
    "        vc_all = X.loc[:, 42].value_counts()\n",
    "        vc_pos = X[y==1].loc[:, 42].value_counts()\n",
    "\n",
    "        for key in vc_all.keys():\n",
    "            count_pos = vc_pos.get(key, default=0)\n",
    "            self.country_map[key] = count_pos / vc_all.get(key)\n",
    "#         for c, a in self.country_map:\n",
    "#             print(c, a)\n",
    "        return self\n",
    "    \n",
    "    def transform(self, X, y=None):\n",
    "        copy = X.copy()\n",
    "        copy.loc[:, 42] = copy.loc[:, 42].map(self.country_map)\n",
    "        return copy"
   ]
  },
  {
   "cell_type": "code",
   "execution_count": 275,
   "id": "ff7a84c8",
   "metadata": {},
   "outputs": [
    {
     "data": {
      "text/plain": [
       "0.573253    33507\n",
       "0.201150     8521\n",
       "0.185677     7233\n",
       "0.252745     6010\n",
       "0.169086     5098\n",
       "            ...  \n",
       "0.181818       11\n",
       "0.750000        8\n",
       "0.875000        8\n",
       "0.857143        7\n",
       "0.600000        5\n",
       "Name: 42, Length: 89, dtype: int64"
      ]
     },
     "execution_count": 275,
     "metadata": {},
     "output_type": "execute_result"
    }
   ],
   "source": [
    "after = MapCountryColumn().fit_transform(X_train.copy(), y_train)\n",
    "after.loc[:, 42].value_counts()\n",
    "# X_train[y_train.IsCanceled==1].loc[:, 42].value_counts()"
   ]
  },
  {
   "cell_type": "markdown",
   "id": "3e584323",
   "metadata": {},
   "source": [
    "3. **ReservationStatus** và **ReservationStatusDate** chứa thông tin sau khi khách trả phòng, ta bỏ 2 cột này. Bỏ cột **ArrivalDateYear**, các cột **ArrivalDateMonth**, **ArrivalDateWeekNumber**, **ArrivalDateDayOfMonth** cũng có thể bỏ nếu  chỉ tăng hiệu năng model lên không đáng kể."
   ]
  },
  {
   "cell_type": "code",
   "execution_count": 255,
   "id": "3a0d2d48",
   "metadata": {},
   "outputs": [],
   "source": [
    "cols = ['ArrivalDateYear', 'ArrivalDateMonth', 'ArrivalDateDayOfMonth', \\\n",
    "        'ArrivalDateWeekNumber', 'ReservationStatus', 'ReservationStatusDate']\n",
    "\n",
    "booking = booking.drop(cols, axis=1)"
   ]
  },
  {
   "cell_type": "markdown",
   "id": "390b7907",
   "metadata": {},
   "source": [
    "4. Đổi giá trị trong một số cột từ số thành boolean (\"có\" hay \"không\")"
   ]
  },
  {
   "cell_type": "code",
   "execution_count": 256,
   "id": "9d96ce50",
   "metadata": {},
   "outputs": [],
   "source": [
    "from sklearn.base import BaseEstimator, TransformerMixin\n",
    "\n",
    "class ToBooleanColumn(BaseEstimator, TransformerMixin):\n",
    "    def fit(self, X, y=None):\n",
    "        return self # nothing else to do \n",
    "    def transform(self, df, y=None):\n",
    "        return df.apply(lambda x : x.apply(lambda x : min(1, x)))"
   ]
  },
  {
   "cell_type": "markdown",
   "id": "d2671c8e",
   "metadata": {},
   "source": [
    "5. Tạo cột **IsDesiredRoomType**"
   ]
  },
  {
   "cell_type": "code",
   "execution_count": 257,
   "id": "a6fe518e",
   "metadata": {},
   "outputs": [
    {
     "data": {
      "text/html": [
       "<div>\n",
       "<style scoped>\n",
       "    .dataframe tbody tr th:only-of-type {\n",
       "        vertical-align: middle;\n",
       "    }\n",
       "\n",
       "    .dataframe tbody tr th {\n",
       "        vertical-align: top;\n",
       "    }\n",
       "\n",
       "    .dataframe thead th {\n",
       "        text-align: right;\n",
       "    }\n",
       "</style>\n",
       "<table border=\"1\" class=\"dataframe\">\n",
       "  <thead>\n",
       "    <tr style=\"text-align: right;\">\n",
       "      <th></th>\n",
       "      <th>col1</th>\n",
       "      <th>col2</th>\n",
       "    </tr>\n",
       "  </thead>\n",
       "  <tbody>\n",
       "    <tr>\n",
       "      <th>0</th>\n",
       "      <td>1</td>\n",
       "      <td>1</td>\n",
       "    </tr>\n",
       "    <tr>\n",
       "      <th>1</th>\n",
       "      <td>1</td>\n",
       "      <td>1</td>\n",
       "    </tr>\n",
       "  </tbody>\n",
       "</table>\n",
       "</div>"
      ],
      "text/plain": [
       "   col1  col2\n",
       "0     1     1\n",
       "1     1     1"
      ]
     },
     "execution_count": 257,
     "metadata": {},
     "output_type": "execute_result"
    }
   ],
   "source": [
    "d = {'col1': [1, 2], 'col2': [3, 4]}\n",
    "df = pd.DataFrame(data=d)\n",
    "df = df.apply(lambda x : x.apply(lambda x : min(1, x)))\n",
    "df"
   ]
  },
  {
   "cell_type": "code",
   "execution_count": 258,
   "id": "67cc034b",
   "metadata": {},
   "outputs": [],
   "source": [
    "from sklearn.base import BaseEstimator, TransformerMixin\n",
    "\n",
    "class CreateIsDesiredRoomTypeColumn(BaseEstimator, TransformerMixin):\n",
    "    def fit(self, X, y=None):\n",
    "        return self # nothing else to do \n",
    "    def transform(self, booking, y=None):\n",
    "        booking['IsDesiredRoomType'] = booking.ReservedRoomType == booking.AssignedRoomType\n",
    "        booking.IsDesiredRoomType = booking.IsDesiredRoomType.astype(int)\n",
    "        return booking.drop(['ReservedRoomType', 'AssignedRoomType'], axis=1)"
   ]
  },
  {
   "cell_type": "markdown",
   "id": "7b5dbaab",
   "metadata": {},
   "source": [
    "6. One-hot encode các categorical features"
   ]
  },
  {
   "cell_type": "code",
   "execution_count": 259,
   "id": "436da627",
   "metadata": {},
   "outputs": [],
   "source": [
    "from sklearn.compose import ColumnTransformer\n",
    "from sklearn.pipeline import Pipeline\n",
    "from sklearn.preprocessing import StandardScaler\n",
    "from sklearn.preprocessing import OneHotEncoder\n",
    "\n",
    "cat_cols = ['MarketSegment', 'CustomerType', 'DistributionChannel', 'DepositType', \\\n",
    "        'Meal', 'HotelType']\n",
    "num_cols = ['LeadTime', 'StaysInWeekendNights', 'StaysInWeekNights', 'Adults', 'Children', 'Babies', \\\n",
    "           'Agent', 'ADR']\n",
    "room_type_cols = ['ReservedRoomType', 'AssignedRoomType']\n",
    "to_bool_cols = ['DaysInWaitingList', 'RequiredCarParkingSpaces', 'TotalOfSpecialRequests', \\\n",
    "    'PreviousCancellations', 'PreviousBookingsNotCanceled', 'Company', 'BookingChanges']\n",
    "preserved_cols = ['Country']\n",
    "\n",
    "class PreserveColumn(BaseEstimator, TransformerMixin):\n",
    "    def fit(self, X, y=None):\n",
    "        return self # nothing else to do \n",
    "    def transform(self, booking, y=None):\n",
    "        return booking\n",
    "\n",
    "\n",
    "num_pipeline = Pipeline([\n",
    "        ('std_scaler', StandardScaler()),\n",
    "    ])\n",
    "\n",
    "full_pipeline = ColumnTransformer([\n",
    "     (\"num\", num_pipeline, num_cols),\n",
    "     (\"cat\", OneHotEncoder(), cat_cols),\n",
    "     (\"roomtype\", CreateIsDesiredRoomTypeColumn(), room_type_cols),\n",
    "     (\"bool\", ToBooleanColumn(), to_bool_cols),\n",
    "     (\"preserve\", PreserveColumn(), preserved_cols),\n",
    " ])\n",
    "booking_prepared = full_pipeline.fit_transform(booking)"
   ]
  },
  {
   "cell_type": "code",
   "execution_count": 260,
   "id": "18e49520",
   "metadata": {
    "scrolled": false
   },
   "outputs": [
    {
     "data": {
      "text/plain": [
       "array([[-0.914421749882178, -0.9400095192800347, -0.8035660572875851,\n",
       "        ..., 0, 0, 'GBR'],\n",
       "       [-0.8583154606793161, -0.9400095192800347, -0.8035660572875851,\n",
       "        ..., 0, 0, 'GBR'],\n",
       "       [-0.8489644124788391, -0.9400095192800347, -0.2729195706208725,\n",
       "        ..., 0, 0, 'GBR'],\n",
       "       ...,\n",
       "       [-0.6619434484692995, 1.074429404988842, 1.3190198893792655, ...,\n",
       "        0, 0, 'DEU'],\n",
       "       [0.03938516656647361, 1.074429404988842, 1.3190198893792655, ...,\n",
       "        0, 0, 'GBR'],\n",
       "       [0.9370857938122633, 1.074429404988842, 2.3803128627126906, ...,\n",
       "        0, 0, 'DEU']], dtype=object)"
      ]
     },
     "execution_count": 260,
     "metadata": {},
     "output_type": "execute_result"
    }
   ],
   "source": [
    "booking_prepared"
   ]
  },
  {
   "cell_type": "markdown",
   "id": "9ff6b558",
   "metadata": {},
   "source": [
    "## Modeling"
   ]
  },
  {
   "cell_type": "code",
   "execution_count": 400,
   "id": "1750348a",
   "metadata": {},
   "outputs": [],
   "source": [
    "from sklearn.model_selection import StratifiedShuffleSplit\n",
    "\n",
    "X = pd.DataFrame(booking_prepared)\n",
    "y = booking.IsCanceled\n",
    "\n",
    "split = StratifiedShuffleSplit(n_splits=1, test_size=0.2, random_state=41)\n",
    "for train_index, test_index in split.split(X, y):\n",
    "    X_t = X.loc[train_index]\n",
    "    y_t = y.loc[train_index]\n",
    "    X_test = X.loc[test_index]\n",
    "    y_test = y.loc[test_index]\n",
    "    \n",
    "X_t = X_train.reset_index(drop=True)\n",
    "y_t = y_train.reset_index(drop=True)\n",
    "split = StratifiedShuffleSplit(n_splits=1, test_size=0.2, random_state=24)\n",
    "for train_index, test_index in split.split(X_t, y_t):\n",
    "    X_train = X_t.loc[train_index]\n",
    "    y_train = y_t.loc[train_index]\n",
    "    X_valid = X_t.loc[test_index]\n",
    "    y_valid = y_t.loc[test_index]"
   ]
  },
  {
   "cell_type": "code",
   "execution_count": 341,
   "id": "aaaa122f",
   "metadata": {},
   "outputs": [],
   "source": [
    "from sklearn.metrics import accuracy_score\n",
    "from sklearn.metrics import precision_score\n",
    "from sklearn.metrics import recall_score\n",
    "\n",
    "def print_scores(model, X_valid, y_valid):\n",
    "    pred = model.predict(X_valid)\n",
    "    print('Accuracy: ', accuracy_score(y_valid, pred))\n",
    "    print('Precision: ', precision_score(y_valid, pred))          \n",
    "    print('Recall: ', recall_score(y_valid, pred))"
   ]
  },
  {
   "cell_type": "code",
   "execution_count": 342,
   "id": "9f4a14d5",
   "metadata": {},
   "outputs": [],
   "source": [
    "from sklearn.base import BaseEstimator, RegressorMixin\n",
    "from sklearn.neural_network import MLPClassifier\n",
    "\n",
    "class MyMLP(BaseEstimator, RegressorMixin):\n",
    "    def __init__(self, hidden_layer_sizes=(100), random_state=1, max_iter=300):\n",
    "        self.mlp = MLPClassifier(hidden_layer_sizes=hidden_layer_sizes, random_state=random_state, max_iter=max_iter)\n",
    "        self.country_mapper = MapCountryColumn()\n",
    "    def fit(self, X, y):\n",
    "        self.country_mapper.fit(X, y)\n",
    "        self.mlp.fit(X, y)\n",
    "        return self\n",
    "\n",
    "    def predict(self, X):\n",
    "        return self.mlp.predict(self.country_mapper.transform(X))\n",
    "    \n",
    "    def predict_proba(self, X):\n",
    "        return self.mlp.predict_proba(self.country_mapper.transform(X))"
   ]
  },
  {
   "cell_type": "code",
   "execution_count": 354,
   "id": "8b89824b",
   "metadata": {},
   "outputs": [],
   "source": [
    "def evaluate_model(model, times=5):\n",
    "    accuracy = []\n",
    "    precision = []\n",
    "    recall = []\n",
    "\n",
    "    for i in range(times):\n",
    "        split = StratifiedShuffleSplit(n_splits=1, test_size=0.2, random_state=24+i)\n",
    "        for train_index, test_index in split.split(X_t, y_t):\n",
    "            X_train = X_t.loc[train_index]\n",
    "            y_train = y_t.loc[train_index]\n",
    "            X_valid = X_t.loc[test_index]\n",
    "            y_valid = y_t.loc[test_index]\n",
    "        print(\"fitting \", i+1)\n",
    "        model.fit(X_train, y_train.values.ravel())\n",
    "        accuracy.append(accuracy_score(y_valid, model.predict(X_valid)))\n",
    "        precision.append(precision_score(y_valid, model.predict(X_valid)))    \n",
    "        recall.append(recall_score(y_valid, model.predict(X_valid)))    \n",
    "\n",
    "    print('Accuracy: ', [\"%0.2f\" % i for i in accuracy], '. Avg: ', sum(accuracy)/times)\n",
    "    print('Precision: ', [\"%0.2f\" % i for i in precision], '. Avg: ', sum(precision)/times)        \n",
    "    print('Recall: ', [\"%0.2f\" % i for i in recall], '. Avg: ', sum(recall)/times) "
   ]
  },
  {
   "cell_type": "code",
   "execution_count": null,
   "id": "48550190",
   "metadata": {},
   "outputs": [],
   "source": [
    "evaluate_model(MyMLP(hidden_layer_sizes=(20,20), random_state=2, max_iter=500))"
   ]
  },
  {
   "cell_type": "code",
   "execution_count": 344,
   "id": "55792e3f",
   "metadata": {},
   "outputs": [
    {
     "name": "stdout",
     "output_type": "stream",
     "text": [
      "Accuracy:  0.823366136765077\n",
      "Precision:  0.7951625094482238\n",
      "Recall:  0.7103308575286968\n"
     ]
    }
   ],
   "source": [
    "print_scores(mlp, X_valid, y_valid)"
   ]
  },
  {
   "cell_type": "code",
   "execution_count": 329,
   "id": "647babbe",
   "metadata": {},
   "outputs": [],
   "source": [
    "from sklearn.base import BaseEstimator, RegressorMixin\n",
    "from sklearn.neural_network import MLPClassifier\n",
    "\n",
    "class MyRandomForest(BaseEstimator, RegressorMixin):\n",
    "    def __init__(self, n_estimators=100):\n",
    "        self.rf = RandomForestClassifier(n_estimators=n_estimators)\n",
    "        self.country_mapper = MapCountryColumn()\n",
    "    def fit(self, X, y):\n",
    "        self.country_mapper.fit(X, y)\n",
    "        self.rf.fit(X, y)\n",
    "        return self\n",
    "\n",
    "    def predict(self, X):\n",
    "        return self.rf.predict(self.country_mapper.transform(X))\n",
    "    \n",
    "    def predict_proba(self, X):\n",
    "        return self.rf.predict_proba(self.country_mapper.transform(X))"
   ]
  },
  {
   "cell_type": "code",
   "execution_count": 373,
   "id": "1334a120",
   "metadata": {},
   "outputs": [],
   "source": [
    "from sklearn.ensemble import RandomForestClassifier\n",
    "\n",
    "rf = MyRandomForest().fit(X_train, y_train.values.ravel())"
   ]
  },
  {
   "cell_type": "code",
   "execution_count": 380,
   "id": "49edeb6c",
   "metadata": {},
   "outputs": [
    {
     "data": {
      "text/plain": [
       "0.8529782937910146"
      ]
     },
     "execution_count": 380,
     "metadata": {},
     "output_type": "execute_result"
    }
   ],
   "source": [
    "mlp = MyMLP(hidden_layer_sizes=(20,20,20), random_state=2, max_iter=500).fit(X_train, y_train.values.ravel())\n",
    "accuracy_score(y_train, mlp.predict(X_train))"
   ]
  },
  {
   "cell_type": "code",
   "execution_count": 383,
   "id": "e8d652c8",
   "metadata": {},
   "outputs": [
    {
     "name": "stdout",
     "output_type": "stream",
     "text": [
      "fitting  1\n",
      "fitting  2\n",
      "fitting  3\n",
      "fitting  4\n",
      "fitting  5\n",
      "Accuracy:  ['0.84', '0.84', '0.83', '0.85', '0.85'] . Avg:  0.8416855917234418\n",
      "Precision:  ['0.83', '0.82', '0.81', '0.83', '0.83'] . Avg:  0.8249024132038034\n",
      "Recall:  ['0.73', '0.74', '0.71', '0.74', '0.73'] . Avg:  0.7316677920324105\n"
     ]
    }
   ],
   "source": [
    "evaluate_model(MyRandomForest(n_estimators=50))"
   ]
  },
  {
   "cell_type": "code",
   "execution_count": 381,
   "id": "618f42f5",
   "metadata": {},
   "outputs": [
    {
     "name": "stdout",
     "output_type": "stream",
     "text": [
      "fitting  1\n",
      "fitting  2\n",
      "fitting  3\n",
      "fitting  4\n",
      "fitting  5\n",
      "Accuracy:  ['0.82', '0.83', '0.82', '0.83', '0.82'] . Avg:  0.8239717385818824\n",
      "Precision:  ['0.79', '0.79', '0.80', '0.83', '0.80'] . Avg:  0.8016904744533708\n",
      "Recall:  ['0.69', '0.73', '0.69', '0.70', '0.70'] . Avg:  0.7033085752869683\n"
     ]
    }
   ],
   "source": [
    "evaluate_model(MyMLP(hidden_layer_sizes=(20,20,20), random_state=2, max_iter=500))"
   ]
  },
  {
   "cell_type": "code",
   "execution_count": 382,
   "id": "9d08a3ba",
   "metadata": {},
   "outputs": [
    {
     "name": "stdout",
     "output_type": "stream",
     "text": [
      "fitting  1\n",
      "fitting  2\n",
      "fitting  3\n",
      "fitting  4\n",
      "fitting  5\n",
      "Accuracy:  ['0.84', '0.84', '0.83', '0.85', '0.83'] . Avg:  0.8368912440070654\n",
      "Precision:  ['0.82', '0.83', '0.81', '0.85', '0.82'] . Avg:  0.8244098969691678\n",
      "Recall:  ['0.72', '0.72', '0.70', '0.73', '0.72'] . Avg:  0.7161377447670493\n"
     ]
    }
   ],
   "source": [
    "evaluate_model(MyRandomForest(n_estimators=20))"
   ]
  },
  {
   "cell_type": "code",
   "execution_count": 401,
   "id": "925f83be",
   "metadata": {},
   "outputs": [
    {
     "data": {
      "image/png": "[encoded data removed]",
      "text/plain": [
       "<Figure size 640x480 with 1 Axes>"
      ]
     },
     "metadata": {},
     "output_type": "display_data"
    }
   ],
   "source": [
    "from scikitplot.metrics import plot_roc\n",
    "import matplotlib.pyplot as plt\n",
    "\n",
    "rf = MyRandomForest(n_estimators=50).fit(X_train, y_train.values.ravel())\n",
    "\n",
    "y_true = y_valid\n",
    "y_probas = rf.predict_proba(X_valid)\n",
    "plot_roc(y_true, y_probas, title='ROC Curves Random Forest')\n",
    "plt.show()"
   ]
  },
  {
   "cell_type": "code",
   "execution_count": 402,
   "id": "6799a511",
   "metadata": {},
   "outputs": [
    {
     "data": {
      "image/png": "[encoded data removed]",
      "text/plain": [
       "<Figure size 640x480 with 1 Axes>"
      ]
     },
     "metadata": {},
     "output_type": "display_data"
    }
   ],
   "source": [
    "mlp = MyMLP(hidden_layer_sizes=(20,20,20), random_state=2, max_iter=500).fit(X_train, y_train.values.ravel())\n",
    "\n",
    "y_true = y_valid\n",
    "y_probas = mlp.predict_proba(X_valid)\n",
    "plot_roc(y_true, y_probas, title='ROC Curves MLP')\n",
    "plt.show()"
   ]
  },
  {
   "cell_type": "code",
   "execution_count": 366,
   "id": "57d34235",
   "metadata": {},
   "outputs": [
    {
     "name": "stdout",
     "output_type": "stream",
     "text": [
      "Accuracy:  0.8433005299015897\n",
      "Precision:  0.8262518968133535\n",
      "Recall:  0.7353139770425389\n"
     ]
    }
   ],
   "source": [
    "print_scores(rf, X_valid, y_valid)"
   ]
  },
  {
   "cell_type": "code",
   "execution_count": 403,
   "id": "c9e07b51",
   "metadata": {},
   "outputs": [
    {
     "ename": "ValueError",
     "evalue": "Input contains NaN, infinity or a value too large for dtype('float64').",
     "output_type": "error",
     "traceback": [
      "\u001b[0;31m---------------------------------------------------------------------------\u001b[0m",
      "\u001b[0;31mValueError\u001b[0m                                Traceback (most recent call last)",
      "\u001b[0;32m/var/folders/zt/39nfs5b561sfptm0d9d7k7rm0000gp/T/ipykernel_53345/963534631.py\u001b[0m in \u001b[0;36m<module>\u001b[0;34m\u001b[0m\n\u001b[0;32m----> 1\u001b[0;31m \u001b[0mprint\u001b[0m\u001b[0;34m(\u001b[0m\u001b[0;34m\"MLP: \"\u001b[0m\u001b[0;34m,\u001b[0m \u001b[0maccuracy_score\u001b[0m\u001b[0;34m(\u001b[0m\u001b[0my_test\u001b[0m\u001b[0;34m,\u001b[0m \u001b[0mmlp\u001b[0m\u001b[0;34m.\u001b[0m\u001b[0mpredict\u001b[0m\u001b[0;34m(\u001b[0m\u001b[0mX_test\u001b[0m\u001b[0;34m)\u001b[0m\u001b[0;34m)\u001b[0m\u001b[0;34m)\u001b[0m\u001b[0;34m\u001b[0m\u001b[0;34m\u001b[0m\u001b[0m\n\u001b[0m\u001b[1;32m      2\u001b[0m \u001b[0mprint\u001b[0m\u001b[0;34m(\u001b[0m\u001b[0;34m\"Random Forest: \"\u001b[0m\u001b[0;34m,\u001b[0m \u001b[0maccuracy_score\u001b[0m\u001b[0;34m(\u001b[0m\u001b[0my_test\u001b[0m\u001b[0;34m,\u001b[0m \u001b[0mrf\u001b[0m\u001b[0;34m.\u001b[0m\u001b[0mpredict\u001b[0m\u001b[0;34m(\u001b[0m\u001b[0mX_test\u001b[0m\u001b[0;34m)\u001b[0m\u001b[0;34m)\u001b[0m\u001b[0;34m)\u001b[0m\u001b[0;34m\u001b[0m\u001b[0;34m\u001b[0m\u001b[0m\n",
      "\u001b[0;32m/var/folders/zt/39nfs5b561sfptm0d9d7k7rm0000gp/T/ipykernel_53345/2880088261.py\u001b[0m in \u001b[0;36mpredict\u001b[0;34m(self, X)\u001b[0m\n\u001b[1;32m     12\u001b[0m \u001b[0;34m\u001b[0m\u001b[0m\n\u001b[1;32m     13\u001b[0m     \u001b[0;32mdef\u001b[0m \u001b[0mpredict\u001b[0m\u001b[0;34m(\u001b[0m\u001b[0mself\u001b[0m\u001b[0;34m,\u001b[0m \u001b[0mX\u001b[0m\u001b[0;34m)\u001b[0m\u001b[0;34m:\u001b[0m\u001b[0;34m\u001b[0m\u001b[0;34m\u001b[0m\u001b[0m\n\u001b[0;32m---> 14\u001b[0;31m         \u001b[0;32mreturn\u001b[0m \u001b[0mself\u001b[0m\u001b[0;34m.\u001b[0m\u001b[0mmlp\u001b[0m\u001b[0;34m.\u001b[0m\u001b[0mpredict\u001b[0m\u001b[0;34m(\u001b[0m\u001b[0mself\u001b[0m\u001b[0;34m.\u001b[0m\u001b[0mcountry_mapper\u001b[0m\u001b[0;34m.\u001b[0m\u001b[0mtransform\u001b[0m\u001b[0;34m(\u001b[0m\u001b[0mX\u001b[0m\u001b[0;34m)\u001b[0m\u001b[0;34m)\u001b[0m\u001b[0;34m\u001b[0m\u001b[0;34m\u001b[0m\u001b[0m\n\u001b[0m\u001b[1;32m     15\u001b[0m \u001b[0;34m\u001b[0m\u001b[0m\n\u001b[1;32m     16\u001b[0m     \u001b[0;32mdef\u001b[0m \u001b[0mpredict_proba\u001b[0m\u001b[0;34m(\u001b[0m\u001b[0mself\u001b[0m\u001b[0;34m,\u001b[0m \u001b[0mX\u001b[0m\u001b[0;34m)\u001b[0m\u001b[0;34m:\u001b[0m\u001b[0;34m\u001b[0m\u001b[0;34m\u001b[0m\u001b[0m\n",
      "\u001b[0;32m/Library/Frameworks/Python.framework/Versions/3.7/lib/python3.7/site-packages/sklearn/neural_network/_multilayer_perceptron.py\u001b[0m in \u001b[0;36mpredict\u001b[0;34m(self, X)\u001b[0m\n\u001b[1;32m   1165\u001b[0m         \"\"\"\n\u001b[1;32m   1166\u001b[0m         \u001b[0mcheck_is_fitted\u001b[0m\u001b[0;34m(\u001b[0m\u001b[0mself\u001b[0m\u001b[0;34m)\u001b[0m\u001b[0;34m\u001b[0m\u001b[0;34m\u001b[0m\u001b[0m\n\u001b[0;32m-> 1167\u001b[0;31m         \u001b[0my_pred\u001b[0m \u001b[0;34m=\u001b[0m \u001b[0mself\u001b[0m\u001b[0;34m.\u001b[0m\u001b[0m_forward_pass_fast\u001b[0m\u001b[0;34m(\u001b[0m\u001b[0mX\u001b[0m\u001b[0;34m)\u001b[0m\u001b[0;34m\u001b[0m\u001b[0;34m\u001b[0m\u001b[0m\n\u001b[0m\u001b[1;32m   1168\u001b[0m \u001b[0;34m\u001b[0m\u001b[0m\n\u001b[1;32m   1169\u001b[0m         \u001b[0;32mif\u001b[0m \u001b[0mself\u001b[0m\u001b[0;34m.\u001b[0m\u001b[0mn_outputs_\u001b[0m \u001b[0;34m==\u001b[0m \u001b[0;36m1\u001b[0m\u001b[0;34m:\u001b[0m\u001b[0;34m\u001b[0m\u001b[0;34m\u001b[0m\u001b[0m\n",
      "\u001b[0;32m/Library/Frameworks/Python.framework/Versions/3.7/lib/python3.7/site-packages/sklearn/neural_network/_multilayer_perceptron.py\u001b[0m in \u001b[0;36m_forward_pass_fast\u001b[0;34m(self, X)\u001b[0m\n\u001b[1;32m    157\u001b[0m             \u001b[0mThe\u001b[0m \u001b[0mdecision\u001b[0m \u001b[0mfunction\u001b[0m \u001b[0mof\u001b[0m \u001b[0mthe\u001b[0m \u001b[0msamples\u001b[0m \u001b[0;32mfor\u001b[0m \u001b[0meach\u001b[0m \u001b[0;32mclass\u001b[0m \u001b[0;32min\u001b[0m \u001b[0mthe\u001b[0m \u001b[0mmodel\u001b[0m\u001b[0;34m.\u001b[0m\u001b[0;34m\u001b[0m\u001b[0;34m\u001b[0m\u001b[0m\n\u001b[1;32m    158\u001b[0m         \"\"\"\n\u001b[0;32m--> 159\u001b[0;31m         \u001b[0mX\u001b[0m \u001b[0;34m=\u001b[0m \u001b[0mself\u001b[0m\u001b[0;34m.\u001b[0m\u001b[0m_validate_data\u001b[0m\u001b[0;34m(\u001b[0m\u001b[0mX\u001b[0m\u001b[0;34m,\u001b[0m \u001b[0maccept_sparse\u001b[0m\u001b[0;34m=\u001b[0m\u001b[0;34m[\u001b[0m\u001b[0;34m\"csr\"\u001b[0m\u001b[0;34m,\u001b[0m \u001b[0;34m\"csc\"\u001b[0m\u001b[0;34m]\u001b[0m\u001b[0;34m,\u001b[0m \u001b[0mreset\u001b[0m\u001b[0;34m=\u001b[0m\u001b[0;32mFalse\u001b[0m\u001b[0;34m)\u001b[0m\u001b[0;34m\u001b[0m\u001b[0;34m\u001b[0m\u001b[0m\n\u001b[0m\u001b[1;32m    160\u001b[0m \u001b[0;34m\u001b[0m\u001b[0m\n\u001b[1;32m    161\u001b[0m         \u001b[0;31m# Initialize first layer\u001b[0m\u001b[0;34m\u001b[0m\u001b[0;34m\u001b[0m\u001b[0;34m\u001b[0m\u001b[0m\n",
      "\u001b[0;32m/Library/Frameworks/Python.framework/Versions/3.7/lib/python3.7/site-packages/sklearn/base.py\u001b[0m in \u001b[0;36m_validate_data\u001b[0;34m(self, X, y, reset, validate_separately, **check_params)\u001b[0m\n\u001b[1;32m    564\u001b[0m             \u001b[0;32mraise\u001b[0m \u001b[0mValueError\u001b[0m\u001b[0;34m(\u001b[0m\u001b[0;34m\"Validation should be done on X, y or both.\"\u001b[0m\u001b[0;34m)\u001b[0m\u001b[0;34m\u001b[0m\u001b[0;34m\u001b[0m\u001b[0m\n\u001b[1;32m    565\u001b[0m         \u001b[0;32melif\u001b[0m \u001b[0;32mnot\u001b[0m \u001b[0mno_val_X\u001b[0m \u001b[0;32mand\u001b[0m \u001b[0mno_val_y\u001b[0m\u001b[0;34m:\u001b[0m\u001b[0;34m\u001b[0m\u001b[0;34m\u001b[0m\u001b[0m\n\u001b[0;32m--> 566\u001b[0;31m             \u001b[0mX\u001b[0m \u001b[0;34m=\u001b[0m \u001b[0mcheck_array\u001b[0m\u001b[0;34m(\u001b[0m\u001b[0mX\u001b[0m\u001b[0;34m,\u001b[0m \u001b[0;34m**\u001b[0m\u001b[0mcheck_params\u001b[0m\u001b[0;34m)\u001b[0m\u001b[0;34m\u001b[0m\u001b[0;34m\u001b[0m\u001b[0m\n\u001b[0m\u001b[1;32m    567\u001b[0m             \u001b[0mout\u001b[0m \u001b[0;34m=\u001b[0m \u001b[0mX\u001b[0m\u001b[0;34m\u001b[0m\u001b[0;34m\u001b[0m\u001b[0m\n\u001b[1;32m    568\u001b[0m         \u001b[0;32melif\u001b[0m \u001b[0mno_val_X\u001b[0m \u001b[0;32mand\u001b[0m \u001b[0;32mnot\u001b[0m \u001b[0mno_val_y\u001b[0m\u001b[0;34m:\u001b[0m\u001b[0;34m\u001b[0m\u001b[0;34m\u001b[0m\u001b[0m\n",
      "\u001b[0;32m/Library/Frameworks/Python.framework/Versions/3.7/lib/python3.7/site-packages/sklearn/utils/validation.py\u001b[0m in \u001b[0;36mcheck_array\u001b[0;34m(array, accept_sparse, accept_large_sparse, dtype, order, copy, force_all_finite, ensure_2d, allow_nd, ensure_min_samples, ensure_min_features, estimator)\u001b[0m\n\u001b[1;32m    798\u001b[0m \u001b[0;34m\u001b[0m\u001b[0m\n\u001b[1;32m    799\u001b[0m         \u001b[0;32mif\u001b[0m \u001b[0mforce_all_finite\u001b[0m\u001b[0;34m:\u001b[0m\u001b[0;34m\u001b[0m\u001b[0;34m\u001b[0m\u001b[0m\n\u001b[0;32m--> 800\u001b[0;31m             \u001b[0m_assert_all_finite\u001b[0m\u001b[0;34m(\u001b[0m\u001b[0marray\u001b[0m\u001b[0;34m,\u001b[0m \u001b[0mallow_nan\u001b[0m\u001b[0;34m=\u001b[0m\u001b[0mforce_all_finite\u001b[0m \u001b[0;34m==\u001b[0m \u001b[0;34m\"allow-nan\"\u001b[0m\u001b[0;34m)\u001b[0m\u001b[0;34m\u001b[0m\u001b[0;34m\u001b[0m\u001b[0m\n\u001b[0m\u001b[1;32m    801\u001b[0m \u001b[0;34m\u001b[0m\u001b[0m\n\u001b[1;32m    802\u001b[0m     \u001b[0;32mif\u001b[0m \u001b[0mensure_min_samples\u001b[0m \u001b[0;34m>\u001b[0m \u001b[0;36m0\u001b[0m\u001b[0;34m:\u001b[0m\u001b[0;34m\u001b[0m\u001b[0;34m\u001b[0m\u001b[0m\n",
      "\u001b[0;32m/Library/Frameworks/Python.framework/Versions/3.7/lib/python3.7/site-packages/sklearn/utils/validation.py\u001b[0m in \u001b[0;36m_assert_all_finite\u001b[0;34m(X, allow_nan, msg_dtype)\u001b[0m\n\u001b[1;32m    114\u001b[0m             raise ValueError(\n\u001b[1;32m    115\u001b[0m                 msg_err.format(\n\u001b[0;32m--> 116\u001b[0;31m                     \u001b[0mtype_err\u001b[0m\u001b[0;34m,\u001b[0m \u001b[0mmsg_dtype\u001b[0m \u001b[0;32mif\u001b[0m \u001b[0mmsg_dtype\u001b[0m \u001b[0;32mis\u001b[0m \u001b[0;32mnot\u001b[0m \u001b[0;32mNone\u001b[0m \u001b[0;32melse\u001b[0m \u001b[0mX\u001b[0m\u001b[0;34m.\u001b[0m\u001b[0mdtype\u001b[0m\u001b[0;34m\u001b[0m\u001b[0;34m\u001b[0m\u001b[0m\n\u001b[0m\u001b[1;32m    117\u001b[0m                 )\n\u001b[1;32m    118\u001b[0m             )\n",
      "\u001b[0;31mValueError\u001b[0m: Input contains NaN, infinity or a value too large for dtype('float64')."
     ]
    }
   ],
   "source": [
    "print(\"MLP: \", accuracy_score(y_test, mlp.predict(X_test)))\n",
    "print(\"Random Forest: \", accuracy_score(y_test, rf.predict(X_test)))"
   ]
  },
  {
   "cell_type": "code",
   "execution_count": null,
   "id": "4eeba833",
   "metadata": {},
   "outputs": [],
   "source": []
  }
 ],
 "metadata": {
  "kernelspec": {
   "display_name": "Python 3 (ipykernel)",
   "language": "python",
   "name": "python3"
  },
  "language_info": {
   "codemirror_mode": {
    "name": "ipython",
    "version": 3
   },
   "file_extension": ".py",
   "mimetype": "text/x-python",
   "name": "python",
   "nbconvert_exporter": "python",
   "pygments_lexer": "ipython3",
   "version": "3.7.9"
  }
 },
 "nbformat": 4,
 "nbformat_minor": 5
}
