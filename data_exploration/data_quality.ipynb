{
 "cells": [
  {
   "cell_type": "code",
   "execution_count": 1,
   "metadata": {},
   "outputs": [
    {
     "data": {
      "text/html": [
       "<div>\n",
       "<style scoped>\n",
       "    .dataframe tbody tr th:only-of-type {\n",
       "        vertical-align: middle;\n",
       "    }\n",
       "\n",
       "    .dataframe tbody tr th {\n",
       "        vertical-align: top;\n",
       "    }\n",
       "\n",
       "    .dataframe thead th {\n",
       "        text-align: right;\n",
       "    }\n",
       "</style>\n",
       "<table border=\"1\" class=\"dataframe\">\n",
       "  <thead>\n",
       "    <tr style=\"text-align: right;\">\n",
       "      <th></th>\n",
       "      <th>IsCanceled</th>\n",
       "      <th>LeadTime</th>\n",
       "      <th>ArrivalDateYear</th>\n",
       "      <th>ArrivalDateWeekNumber</th>\n",
       "      <th>ArrivalDateDayOfMonth</th>\n",
       "      <th>StaysInWeekendNights</th>\n",
       "      <th>StaysInWeekNights</th>\n",
       "      <th>Adults</th>\n",
       "      <th>Children</th>\n",
       "      <th>Babies</th>\n",
       "      <th>IsRepeatedGuest</th>\n",
       "      <th>PreviousCancellations</th>\n",
       "      <th>PreviousBookingsNotCanceled</th>\n",
       "      <th>BookingChanges</th>\n",
       "      <th>DaysInWaitingList</th>\n",
       "      <th>ADR</th>\n",
       "      <th>RequiredCarParkingSpaces</th>\n",
       "      <th>TotalOfSpecialRequests</th>\n",
       "    </tr>\n",
       "  </thead>\n",
       "  <tbody>\n",
       "    <tr>\n",
       "      <th>count</th>\n",
       "      <td>119390.000000</td>\n",
       "      <td>119390.000000</td>\n",
       "      <td>119390.000000</td>\n",
       "      <td>119390.000000</td>\n",
       "      <td>119390.000000</td>\n",
       "      <td>119390.000000</td>\n",
       "      <td>119390.000000</td>\n",
       "      <td>119390.000000</td>\n",
       "      <td>119386.000000</td>\n",
       "      <td>119390.000000</td>\n",
       "      <td>119390.000000</td>\n",
       "      <td>119390.000000</td>\n",
       "      <td>119390.000000</td>\n",
       "      <td>119390.000000</td>\n",
       "      <td>119390.000000</td>\n",
       "      <td>119390.000000</td>\n",
       "      <td>119390.000000</td>\n",
       "      <td>119390.000000</td>\n",
       "    </tr>\n",
       "    <tr>\n",
       "      <th>mean</th>\n",
       "      <td>0.370416</td>\n",
       "      <td>104.011416</td>\n",
       "      <td>2016.156554</td>\n",
       "      <td>27.165173</td>\n",
       "      <td>15.798241</td>\n",
       "      <td>0.927599</td>\n",
       "      <td>2.500302</td>\n",
       "      <td>1.856403</td>\n",
       "      <td>0.103890</td>\n",
       "      <td>0.007949</td>\n",
       "      <td>0.031912</td>\n",
       "      <td>0.087118</td>\n",
       "      <td>0.137097</td>\n",
       "      <td>0.221124</td>\n",
       "      <td>2.321149</td>\n",
       "      <td>101.831122</td>\n",
       "      <td>0.062518</td>\n",
       "      <td>0.571363</td>\n",
       "    </tr>\n",
       "    <tr>\n",
       "      <th>std</th>\n",
       "      <td>0.482918</td>\n",
       "      <td>106.863097</td>\n",
       "      <td>0.707476</td>\n",
       "      <td>13.605138</td>\n",
       "      <td>8.780829</td>\n",
       "      <td>0.998613</td>\n",
       "      <td>1.908286</td>\n",
       "      <td>0.579261</td>\n",
       "      <td>0.398561</td>\n",
       "      <td>0.097436</td>\n",
       "      <td>0.175767</td>\n",
       "      <td>0.844336</td>\n",
       "      <td>1.497437</td>\n",
       "      <td>0.652306</td>\n",
       "      <td>17.594721</td>\n",
       "      <td>50.535790</td>\n",
       "      <td>0.245291</td>\n",
       "      <td>0.792798</td>\n",
       "    </tr>\n",
       "    <tr>\n",
       "      <th>min</th>\n",
       "      <td>0.000000</td>\n",
       "      <td>0.000000</td>\n",
       "      <td>2015.000000</td>\n",
       "      <td>1.000000</td>\n",
       "      <td>1.000000</td>\n",
       "      <td>0.000000</td>\n",
       "      <td>0.000000</td>\n",
       "      <td>0.000000</td>\n",
       "      <td>0.000000</td>\n",
       "      <td>0.000000</td>\n",
       "      <td>0.000000</td>\n",
       "      <td>0.000000</td>\n",
       "      <td>0.000000</td>\n",
       "      <td>0.000000</td>\n",
       "      <td>0.000000</td>\n",
       "      <td>-6.380000</td>\n",
       "      <td>0.000000</td>\n",
       "      <td>0.000000</td>\n",
       "    </tr>\n",
       "    <tr>\n",
       "      <th>25%</th>\n",
       "      <td>0.000000</td>\n",
       "      <td>18.000000</td>\n",
       "      <td>2016.000000</td>\n",
       "      <td>16.000000</td>\n",
       "      <td>8.000000</td>\n",
       "      <td>0.000000</td>\n",
       "      <td>1.000000</td>\n",
       "      <td>2.000000</td>\n",
       "      <td>0.000000</td>\n",
       "      <td>0.000000</td>\n",
       "      <td>0.000000</td>\n",
       "      <td>0.000000</td>\n",
       "      <td>0.000000</td>\n",
       "      <td>0.000000</td>\n",
       "      <td>0.000000</td>\n",
       "      <td>69.290000</td>\n",
       "      <td>0.000000</td>\n",
       "      <td>0.000000</td>\n",
       "    </tr>\n",
       "    <tr>\n",
       "      <th>50%</th>\n",
       "      <td>0.000000</td>\n",
       "      <td>69.000000</td>\n",
       "      <td>2016.000000</td>\n",
       "      <td>28.000000</td>\n",
       "      <td>16.000000</td>\n",
       "      <td>1.000000</td>\n",
       "      <td>2.000000</td>\n",
       "      <td>2.000000</td>\n",
       "      <td>0.000000</td>\n",
       "      <td>0.000000</td>\n",
       "      <td>0.000000</td>\n",
       "      <td>0.000000</td>\n",
       "      <td>0.000000</td>\n",
       "      <td>0.000000</td>\n",
       "      <td>0.000000</td>\n",
       "      <td>94.575000</td>\n",
       "      <td>0.000000</td>\n",
       "      <td>0.000000</td>\n",
       "    </tr>\n",
       "    <tr>\n",
       "      <th>75%</th>\n",
       "      <td>1.000000</td>\n",
       "      <td>160.000000</td>\n",
       "      <td>2017.000000</td>\n",
       "      <td>38.000000</td>\n",
       "      <td>23.000000</td>\n",
       "      <td>2.000000</td>\n",
       "      <td>3.000000</td>\n",
       "      <td>2.000000</td>\n",
       "      <td>0.000000</td>\n",
       "      <td>0.000000</td>\n",
       "      <td>0.000000</td>\n",
       "      <td>0.000000</td>\n",
       "      <td>0.000000</td>\n",
       "      <td>0.000000</td>\n",
       "      <td>0.000000</td>\n",
       "      <td>126.000000</td>\n",
       "      <td>0.000000</td>\n",
       "      <td>1.000000</td>\n",
       "    </tr>\n",
       "    <tr>\n",
       "      <th>max</th>\n",
       "      <td>1.000000</td>\n",
       "      <td>737.000000</td>\n",
       "      <td>2017.000000</td>\n",
       "      <td>53.000000</td>\n",
       "      <td>31.000000</td>\n",
       "      <td>19.000000</td>\n",
       "      <td>50.000000</td>\n",
       "      <td>55.000000</td>\n",
       "      <td>10.000000</td>\n",
       "      <td>10.000000</td>\n",
       "      <td>1.000000</td>\n",
       "      <td>26.000000</td>\n",
       "      <td>72.000000</td>\n",
       "      <td>21.000000</td>\n",
       "      <td>391.000000</td>\n",
       "      <td>5400.000000</td>\n",
       "      <td>8.000000</td>\n",
       "      <td>5.000000</td>\n",
       "    </tr>\n",
       "  </tbody>\n",
       "</table>\n",
       "</div>"
      ],
      "text/plain": [
       "          IsCanceled       LeadTime  ArrivalDateYear  ArrivalDateWeekNumber  \\\n",
       "count  119390.000000  119390.000000    119390.000000          119390.000000   \n",
       "mean        0.370416     104.011416      2016.156554              27.165173   \n",
       "std         0.482918     106.863097         0.707476              13.605138   \n",
       "min         0.000000       0.000000      2015.000000               1.000000   \n",
       "25%         0.000000      18.000000      2016.000000              16.000000   \n",
       "50%         0.000000      69.000000      2016.000000              28.000000   \n",
       "75%         1.000000     160.000000      2017.000000              38.000000   \n",
       "max         1.000000     737.000000      2017.000000              53.000000   \n",
       "\n",
       "       ArrivalDateDayOfMonth  StaysInWeekendNights  StaysInWeekNights  \\\n",
       "count          119390.000000         119390.000000      119390.000000   \n",
       "mean               15.798241              0.927599           2.500302   \n",
       "std                 8.780829              0.998613           1.908286   \n",
       "min                 1.000000              0.000000           0.000000   \n",
       "25%                 8.000000              0.000000           1.000000   \n",
       "50%                16.000000              1.000000           2.000000   \n",
       "75%                23.000000              2.000000           3.000000   \n",
       "max                31.000000             19.000000          50.000000   \n",
       "\n",
       "              Adults       Children         Babies  IsRepeatedGuest  \\\n",
       "count  119390.000000  119386.000000  119390.000000    119390.000000   \n",
       "mean        1.856403       0.103890       0.007949         0.031912   \n",
       "std         0.579261       0.398561       0.097436         0.175767   \n",
       "min         0.000000       0.000000       0.000000         0.000000   \n",
       "25%         2.000000       0.000000       0.000000         0.000000   \n",
       "50%         2.000000       0.000000       0.000000         0.000000   \n",
       "75%         2.000000       0.000000       0.000000         0.000000   \n",
       "max        55.000000      10.000000      10.000000         1.000000   \n",
       "\n",
       "       PreviousCancellations  PreviousBookingsNotCanceled  BookingChanges  \\\n",
       "count          119390.000000                119390.000000   119390.000000   \n",
       "mean                0.087118                     0.137097        0.221124   \n",
       "std                 0.844336                     1.497437        0.652306   \n",
       "min                 0.000000                     0.000000        0.000000   \n",
       "25%                 0.000000                     0.000000        0.000000   \n",
       "50%                 0.000000                     0.000000        0.000000   \n",
       "75%                 0.000000                     0.000000        0.000000   \n",
       "max                26.000000                    72.000000       21.000000   \n",
       "\n",
       "       DaysInWaitingList            ADR  RequiredCarParkingSpaces  \\\n",
       "count      119390.000000  119390.000000             119390.000000   \n",
       "mean            2.321149     101.831122                  0.062518   \n",
       "std            17.594721      50.535790                  0.245291   \n",
       "min             0.000000      -6.380000                  0.000000   \n",
       "25%             0.000000      69.290000                  0.000000   \n",
       "50%             0.000000      94.575000                  0.000000   \n",
       "75%             0.000000     126.000000                  0.000000   \n",
       "max           391.000000    5400.000000                  8.000000   \n",
       "\n",
       "       TotalOfSpecialRequests  \n",
       "count           119390.000000  \n",
       "mean                 0.571363  \n",
       "std                  0.792798  \n",
       "min                  0.000000  \n",
       "25%                  0.000000  \n",
       "50%                  0.000000  \n",
       "75%                  1.000000  \n",
       "max                  5.000000  "
      ]
     },
     "execution_count": 1,
     "metadata": {},
     "output_type": "execute_result"
    }
   ],
   "source": [
    "import numpy as np\n",
    "import pandas as pd\n",
    "\n",
    "h1 = pd.read_csv(\"../data/H1.csv\")\n",
    "h1[\"HotelType\"] = \"Resort\"\n",
    "h2 = pd.read_csv(\"../data/H2.csv\")\n",
    "h2[\"HotelType\"] = \"City\"\n",
    "df = pd.concat([h1, h2], ignore_index=True)\n",
    "df.describe()"
   ]
  },
  {
   "cell_type": "markdown",
   "metadata": {},
   "source": [
    "Count number of cells that violates syntax"
   ]
  },
  {
   "cell_type": "code",
   "execution_count": 2,
   "metadata": {},
   "outputs": [
    {
     "name": "stdout",
     "output_type": "stream",
     "text": [
      "0 ArrivalDateMonth\n",
      "118221 Meal\n",
      "488 Country\n",
      "0 MarketSegment\n",
      "0 DistributionChannel\n",
      "119390 ReservedRoomType\n",
      "119390 AssignedRoomType\n",
      "119390 DepositType\n",
      "119390 Agent\n",
      "119390 Company\n",
      "0 CustomerType\n",
      "0 ReservationStatus\n",
      "0 ReservationStatusDate\n",
      "0 HotelType\n"
     ]
    },
    {
     "data": {
      "text/plain": [
       "715659"
      ]
     },
     "execution_count": 2,
     "metadata": {},
     "output_type": "execute_result"
    }
   ],
   "source": [
    "nums_invalid_string = 0\n",
    "def count_redundant_spaces(col):\n",
    "  return df[col].str.strip().ne(df[col]).sum()\n",
    "\n",
    "for col in df.select_dtypes(include='object'):\n",
    "    print(count_redundant_spaces(col), col)\n",
    "    nums_invalid_string += count_redundant_spaces(col)\n",
    "nums_invalid_string"
   ]
  },
  {
   "cell_type": "code",
   "execution_count": 3,
   "metadata": {},
   "outputs": [],
   "source": [
    "for col in df.select_dtypes(include='object'):\n",
    "    df[col] = df[col].str.strip()"
   ]
  },
  {
   "cell_type": "markdown",
   "metadata": {},
   "source": [
    "Count number of cells that have missing values"
   ]
  },
  {
   "cell_type": "code",
   "execution_count": 4,
   "metadata": {},
   "outputs": [
    {
     "data": {
      "text/plain": [
       "492"
      ]
     },
     "execution_count": 4,
     "metadata": {},
     "output_type": "execute_result"
    }
   ],
   "source": [
    "missing_values = df.isnull().sum().sum()\n",
    "missing_values"
   ]
  },
  {
   "cell_type": "code",
   "execution_count": 5,
   "metadata": {},
   "outputs": [
    {
     "data": {
      "text/plain": [
       "128933"
      ]
     },
     "execution_count": 5,
     "metadata": {},
     "output_type": "execute_result"
    }
   ],
   "source": [
    "count = df.query(\"Agent == 'NULL'\").shape[0]\n",
    "count += df.query(\"Company == 'NULL'\").shape[0]\n",
    "count"
   ]
  },
  {
   "cell_type": "code",
   "execution_count": 6,
   "metadata": {},
   "outputs": [],
   "source": [
    "invalid_value_level = nums_invalid_string + count + missing_values"
   ]
  },
  {
   "cell_type": "markdown",
   "metadata": {},
   "source": [
    "Count number of records that have value-set level problems"
   ]
  },
  {
   "cell_type": "code",
   "execution_count": 7,
   "metadata": {},
   "outputs": [
    {
     "data": {
      "text/plain": [
       "11819"
      ]
     },
     "execution_count": 7,
     "metadata": {},
     "output_type": "execute_result"
    }
   ],
   "source": [
    "nums_of_synonym = df[df['Meal'].isin(['Undefined', 'SC'])].shape[0]\n",
    "nums_of_synonym"
   ]
  },
  {
   "cell_type": "markdown",
   "metadata": {},
   "source": [
    "Count number of records that have record level problems"
   ]
  },
  {
   "cell_type": "code",
   "execution_count": 8,
   "metadata": {},
   "outputs": [],
   "source": [
    "invalid_nums_people = df.query(\"Adults + Children + Babies == 0\").shape[0]\n",
    "invalid_nums_stays = df.query(\"StaysInWeekendNights + StaysInWeekNights == 0\").shape[0]\n",
    "inconsistent_isRepeated = df.query(\"(PreviousBookingsNotCanceled + PreviousCancellations > 0) and IsRepeatedGuest == 0\").shape[0]\n",
    "invalid_record_level = invalid_nums_people + invalid_nums_stays + inconsistent_isRepeated"
   ]
  },
  {
   "cell_type": "code",
   "execution_count": 9,
   "metadata": {},
   "outputs": [
    {
     "name": "stdout",
     "output_type": "stream",
     "text": [
      "Percentage of invalid cells: 22.11983834492001\n",
      "Percentage of invalid value-set levels 9.899489069436301\n",
      "Percentage of invalid record levels 5.973699639835832\n"
     ]
    }
   ],
   "source": [
    "total_cells = np.product(df.shape)\n",
    "\n",
    "print(\"Percentage of invalid cells: {}\".format((invalid_value_level/total_cells) * 100))\n",
    "print(\"Percentage of invalid value-set levels {}\".format((nums_of_synonym/len(df)) * 100))\n",
    "print(\"Percentage of invalid record levels {}\".format((invalid_record_level/len(df)) * 100))"
   ]
  },
  {
   "cell_type": "markdown",
   "metadata": {},
   "source": [
    "Draw quality chart"
   ]
  },
  {
   "cell_type": "code",
   "execution_count": 10,
   "metadata": {},
   "outputs": [
    {
     "data": {
      "image/png": "[encoded data removed]",
      "text/plain": [
       "<Waffle size 640x480 with 3 Axes>"
      ]
     },
     "metadata": {},
     "output_type": "display_data"
    }
   ],
   "source": [
    "from pywaffle import Waffle\n",
    "import matplotlib.pyplot as plt\n",
    "\n",
    "data_frame = pd.DataFrame({\n",
    "        'labels': ['Invalid', 'Valid'],\n",
    "        'Value level': [22, 78],\n",
    "        'Value-set level': [10, 90],\n",
    "        'Record level': [6, 94]}).set_index('labels')\n",
    "\n",
    "# Waffle subfigure\n",
    "fig = plt.figure(\n",
    "    FigureClass = Waffle,\n",
    "    plots = {\n",
    "        311: {\n",
    "            'values': data_frame['Value level'], \n",
    "            'labels': [f\"{k} ({v})\" for k, v in data_frame['Value level'].items()],\n",
    "            'legend': {'loc': 'upper left', 'bbox_to_anchor': (1.2, 1), 'fontsize': 8},\n",
    "            'title': {'label': 'Value level', 'loc': 'left', 'fontsize': 12}\n",
    "        },\n",
    "        312: {\n",
    "            'values': data_frame['Value-set level'],\n",
    "            'labels': [f\"{k} ({v})\" for k, v in data_frame['Value-set level'].items()],\n",
    "            'legend': {'loc': 'upper left', 'bbox_to_anchor': (1.2, 1), 'fontsize': 8},\n",
    "            'title': {'label': 'Value-set level', 'loc': 'left', 'fontsize': 12}\n",
    "        },\n",
    "        313: {\n",
    "            'values': data_frame['Record level'],\n",
    "            'labels': [f\"{k} ({v})\" for k, v in data_frame['Record level'].items()],\n",
    "            'legend': {'loc': 'upper left', 'bbox_to_anchor': (1.2, 1), 'fontsize': 8},\n",
    "            'title': {'label': 'Record level', 'loc': 'left', 'fontsize': 12}\n",
    "        }\n",
    "    },\n",
    "    rows = 5,\n",
    "    colors=[\"#FF9933\", \"#FFEE99\"],\n",
    "    cmap_name = \"tab20b\")\n",
    "\n",
    "fig.suptitle('Data Quality', fontsize = 12, fontweight = 'bold')\n",
    "\n",
    "plt.show()"
   ]
  },
  {
   "cell_type": "code",
   "execution_count": 11,
   "metadata": {},
   "outputs": [
    {
     "data": {
      "image/png": "[encoded data removed]",
      "text/plain": [
       "<Figure size 640x480 with 1 Axes>"
      ]
     },
     "metadata": {},
     "output_type": "display_data"
    }
   ],
   "source": [
    "values = df['IsCanceled'].value_counts().sort_values(ascending=False)  # Sort values for better visual clarity\n",
    "\n",
    "plt.pie(values, labels=values.index, autopct=\"%1.1f%%\", wedgeprops=dict(width=0.6), startangle=90)  # Adjust width for doughnut hole\n",
    "plt.title(\"IsCanceled\")\n",
    "plt.show()"
   ]
  }
 ],
 "metadata": {
  "kernelspec": {
   "display_name": "env",
   "language": "python",
   "name": "python3"
  },
  "language_info": {
   "codemirror_mode": {
    "name": "ipython",
    "version": 3
   },
   "file_extension": ".py",
   "mimetype": "text/x-python",
   "name": "python",
   "nbconvert_exporter": "python",
   "pygments_lexer": "ipython3",
   "version": "3.10.4"
  }
 },
 "nbformat": 4,
 "nbformat_minor": 2
}
