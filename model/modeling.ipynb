{
 "cells": [
  {
   "cell_type": "code",
   "execution_count": 1,
   "id": "6ff506d1",
   "metadata": {},
   "outputs": [
    {
     "data": {
      "text/html": [
       "<div>\n",
       "<style scoped>\n",
       "    .dataframe tbody tr th:only-of-type {\n",
       "        vertical-align: middle;\n",
       "    }\n",
       "\n",
       "    .dataframe tbody tr th {\n",
       "        vertical-align: top;\n",
       "    }\n",
       "\n",
       "    .dataframe thead th {\n",
       "        text-align: right;\n",
       "    }\n",
       "</style>\n",
       "<table border=\"1\" class=\"dataframe\">\n",
       "  <thead>\n",
       "    <tr style=\"text-align: right;\">\n",
       "      <th></th>\n",
       "      <th>IsCanceled</th>\n",
       "      <th>LeadTime</th>\n",
       "      <th>ArrivalDateYear</th>\n",
       "      <th>ArrivalDateWeekNumber</th>\n",
       "      <th>ArrivalDateDayOfMonth</th>\n",
       "      <th>StaysInWeekendNights</th>\n",
       "      <th>StaysInWeekNights</th>\n",
       "      <th>Adults</th>\n",
       "      <th>Children</th>\n",
       "      <th>Babies</th>\n",
       "      <th>IsRepeatedGuest</th>\n",
       "      <th>PreviousCancellations</th>\n",
       "      <th>PreviousBookingsNotCanceled</th>\n",
       "      <th>BookingChanges</th>\n",
       "      <th>Agent</th>\n",
       "      <th>Company</th>\n",
       "      <th>DaysInWaitingList</th>\n",
       "      <th>ADR</th>\n",
       "      <th>RequiredCarParkingSpaces</th>\n",
       "      <th>TotalOfSpecialRequests</th>\n",
       "    </tr>\n",
       "  </thead>\n",
       "  <tbody>\n",
       "    <tr>\n",
       "      <th>count</th>\n",
       "      <td>118565.000000</td>\n",
       "      <td>118565.000000</td>\n",
       "      <td>118565.000000</td>\n",
       "      <td>118565.000000</td>\n",
       "      <td>118565.000000</td>\n",
       "      <td>118565.000000</td>\n",
       "      <td>118565.000000</td>\n",
       "      <td>118565.000000</td>\n",
       "      <td>118565.000000</td>\n",
       "      <td>118565.000000</td>\n",
       "      <td>118565.000000</td>\n",
       "      <td>118565.000000</td>\n",
       "      <td>118565.000000</td>\n",
       "      <td>118565.000000</td>\n",
       "      <td>118565.000000</td>\n",
       "      <td>118565.000000</td>\n",
       "      <td>118565.000000</td>\n",
       "      <td>118565.000000</td>\n",
       "      <td>118565.000000</td>\n",
       "      <td>118565.000000</td>\n",
       "    </tr>\n",
       "    <tr>\n",
       "      <th>mean</th>\n",
       "      <td>0.372589</td>\n",
       "      <td>104.505832</td>\n",
       "      <td>2016.157635</td>\n",
       "      <td>27.157028</td>\n",
       "      <td>15.799595</td>\n",
       "      <td>0.932096</td>\n",
       "      <td>2.512790</td>\n",
       "      <td>1.860009</td>\n",
       "      <td>0.104196</td>\n",
       "      <td>0.007962</td>\n",
       "      <td>0.082056</td>\n",
       "      <td>0.087631</td>\n",
       "      <td>0.137182</td>\n",
       "      <td>0.218361</td>\n",
       "      <td>74.784692</td>\n",
       "      <td>10.680353</td>\n",
       "      <td>2.333016</td>\n",
       "      <td>102.523863</td>\n",
       "      <td>0.062759</td>\n",
       "      <td>0.571931</td>\n",
       "    </tr>\n",
       "    <tr>\n",
       "      <th>std</th>\n",
       "      <td>0.483496</td>\n",
       "      <td>106.915519</td>\n",
       "      <td>0.707714</td>\n",
       "      <td>13.589350</td>\n",
       "      <td>8.782227</td>\n",
       "      <td>0.995462</td>\n",
       "      <td>1.893258</td>\n",
       "      <td>0.575441</td>\n",
       "      <td>0.399119</td>\n",
       "      <td>0.097560</td>\n",
       "      <td>0.274452</td>\n",
       "      <td>0.847172</td>\n",
       "      <td>1.500699</td>\n",
       "      <td>0.637629</td>\n",
       "      <td>107.112200</td>\n",
       "      <td>53.719120</td>\n",
       "      <td>17.642783</td>\n",
       "      <td>50.005428</td>\n",
       "      <td>0.245743</td>\n",
       "      <td>0.793281</td>\n",
       "    </tr>\n",
       "    <tr>\n",
       "      <th>min</th>\n",
       "      <td>0.000000</td>\n",
       "      <td>0.000000</td>\n",
       "      <td>2015.000000</td>\n",
       "      <td>1.000000</td>\n",
       "      <td>1.000000</td>\n",
       "      <td>0.000000</td>\n",
       "      <td>0.000000</td>\n",
       "      <td>0.000000</td>\n",
       "      <td>0.000000</td>\n",
       "      <td>0.000000</td>\n",
       "      <td>0.000000</td>\n",
       "      <td>0.000000</td>\n",
       "      <td>0.000000</td>\n",
       "      <td>0.000000</td>\n",
       "      <td>0.000000</td>\n",
       "      <td>0.000000</td>\n",
       "      <td>0.000000</td>\n",
       "      <td>0.000000</td>\n",
       "      <td>0.000000</td>\n",
       "      <td>0.000000</td>\n",
       "    </tr>\n",
       "    <tr>\n",
       "      <th>25%</th>\n",
       "      <td>0.000000</td>\n",
       "      <td>18.000000</td>\n",
       "      <td>2016.000000</td>\n",
       "      <td>16.000000</td>\n",
       "      <td>8.000000</td>\n",
       "      <td>0.000000</td>\n",
       "      <td>1.000000</td>\n",
       "      <td>2.000000</td>\n",
       "      <td>0.000000</td>\n",
       "      <td>0.000000</td>\n",
       "      <td>0.000000</td>\n",
       "      <td>0.000000</td>\n",
       "      <td>0.000000</td>\n",
       "      <td>0.000000</td>\n",
       "      <td>7.000000</td>\n",
       "      <td>0.000000</td>\n",
       "      <td>0.000000</td>\n",
       "      <td>70.000000</td>\n",
       "      <td>0.000000</td>\n",
       "      <td>0.000000</td>\n",
       "    </tr>\n",
       "    <tr>\n",
       "      <th>50%</th>\n",
       "      <td>0.000000</td>\n",
       "      <td>70.000000</td>\n",
       "      <td>2016.000000</td>\n",
       "      <td>28.000000</td>\n",
       "      <td>16.000000</td>\n",
       "      <td>1.000000</td>\n",
       "      <td>2.000000</td>\n",
       "      <td>2.000000</td>\n",
       "      <td>0.000000</td>\n",
       "      <td>0.000000</td>\n",
       "      <td>0.000000</td>\n",
       "      <td>0.000000</td>\n",
       "      <td>0.000000</td>\n",
       "      <td>0.000000</td>\n",
       "      <td>9.000000</td>\n",
       "      <td>0.000000</td>\n",
       "      <td>0.000000</td>\n",
       "      <td>95.000000</td>\n",
       "      <td>0.000000</td>\n",
       "      <td>0.000000</td>\n",
       "    </tr>\n",
       "    <tr>\n",
       "      <th>75%</th>\n",
       "      <td>1.000000</td>\n",
       "      <td>161.000000</td>\n",
       "      <td>2017.000000</td>\n",
       "      <td>38.000000</td>\n",
       "      <td>23.000000</td>\n",
       "      <td>2.000000</td>\n",
       "      <td>3.000000</td>\n",
       "      <td>2.000000</td>\n",
       "      <td>0.000000</td>\n",
       "      <td>0.000000</td>\n",
       "      <td>0.000000</td>\n",
       "      <td>0.000000</td>\n",
       "      <td>0.000000</td>\n",
       "      <td>0.000000</td>\n",
       "      <td>152.000000</td>\n",
       "      <td>0.000000</td>\n",
       "      <td>0.000000</td>\n",
       "      <td>126.000000</td>\n",
       "      <td>0.000000</td>\n",
       "      <td>1.000000</td>\n",
       "    </tr>\n",
       "    <tr>\n",
       "      <th>max</th>\n",
       "      <td>1.000000</td>\n",
       "      <td>709.000000</td>\n",
       "      <td>2017.000000</td>\n",
       "      <td>53.000000</td>\n",
       "      <td>31.000000</td>\n",
       "      <td>19.000000</td>\n",
       "      <td>50.000000</td>\n",
       "      <td>55.000000</td>\n",
       "      <td>10.000000</td>\n",
       "      <td>10.000000</td>\n",
       "      <td>1.000000</td>\n",
       "      <td>26.000000</td>\n",
       "      <td>72.000000</td>\n",
       "      <td>18.000000</td>\n",
       "      <td>535.000000</td>\n",
       "      <td>543.000000</td>\n",
       "      <td>391.000000</td>\n",
       "      <td>5400.000000</td>\n",
       "      <td>8.000000</td>\n",
       "      <td>5.000000</td>\n",
       "    </tr>\n",
       "  </tbody>\n",
       "</table>\n",
       "</div>"
      ],
      "text/plain": [
       "          IsCanceled       LeadTime  ArrivalDateYear  ArrivalDateWeekNumber  \\\n",
       "count  118565.000000  118565.000000    118565.000000          118565.000000   \n",
       "mean        0.372589     104.505832      2016.157635              27.157028   \n",
       "std         0.483496     106.915519         0.707714              13.589350   \n",
       "min         0.000000       0.000000      2015.000000               1.000000   \n",
       "25%         0.000000      18.000000      2016.000000              16.000000   \n",
       "50%         0.000000      70.000000      2016.000000              28.000000   \n",
       "75%         1.000000     161.000000      2017.000000              38.000000   \n",
       "max         1.000000     709.000000      2017.000000              53.000000   \n",
       "\n",
       "       ArrivalDateDayOfMonth  StaysInWeekendNights  StaysInWeekNights  \\\n",
       "count          118565.000000         118565.000000      118565.000000   \n",
       "mean               15.799595              0.932096           2.512790   \n",
       "std                 8.782227              0.995462           1.893258   \n",
       "min                 1.000000              0.000000           0.000000   \n",
       "25%                 8.000000              0.000000           1.000000   \n",
       "50%                16.000000              1.000000           2.000000   \n",
       "75%                23.000000              2.000000           3.000000   \n",
       "max                31.000000             19.000000          50.000000   \n",
       "\n",
       "              Adults       Children         Babies  IsRepeatedGuest  \\\n",
       "count  118565.000000  118565.000000  118565.000000    118565.000000   \n",
       "mean        1.860009       0.104196       0.007962         0.082056   \n",
       "std         0.575441       0.399119       0.097560         0.274452   \n",
       "min         0.000000       0.000000       0.000000         0.000000   \n",
       "25%         2.000000       0.000000       0.000000         0.000000   \n",
       "50%         2.000000       0.000000       0.000000         0.000000   \n",
       "75%         2.000000       0.000000       0.000000         0.000000   \n",
       "max        55.000000      10.000000      10.000000         1.000000   \n",
       "\n",
       "       PreviousCancellations  PreviousBookingsNotCanceled  BookingChanges  \\\n",
       "count          118565.000000                118565.000000   118565.000000   \n",
       "mean                0.087631                     0.137182        0.218361   \n",
       "std                 0.847172                     1.500699        0.637629   \n",
       "min                 0.000000                     0.000000        0.000000   \n",
       "25%                 0.000000                     0.000000        0.000000   \n",
       "50%                 0.000000                     0.000000        0.000000   \n",
       "75%                 0.000000                     0.000000        0.000000   \n",
       "max                26.000000                    72.000000       18.000000   \n",
       "\n",
       "               Agent        Company  DaysInWaitingList            ADR  \\\n",
       "count  118565.000000  118565.000000      118565.000000  118565.000000   \n",
       "mean       74.784692      10.680353           2.333016     102.523863   \n",
       "std       107.112200      53.719120          17.642783      50.005428   \n",
       "min         0.000000       0.000000           0.000000       0.000000   \n",
       "25%         7.000000       0.000000           0.000000      70.000000   \n",
       "50%         9.000000       0.000000           0.000000      95.000000   \n",
       "75%       152.000000       0.000000           0.000000     126.000000   \n",
       "max       535.000000     543.000000         391.000000    5400.000000   \n",
       "\n",
       "       RequiredCarParkingSpaces  TotalOfSpecialRequests  \n",
       "count             118565.000000           118565.000000  \n",
       "mean                   0.062759                0.571931  \n",
       "std                    0.245743                0.793281  \n",
       "min                    0.000000                0.000000  \n",
       "25%                    0.000000                0.000000  \n",
       "50%                    0.000000                0.000000  \n",
       "75%                    0.000000                1.000000  \n",
       "max                    8.000000                5.000000  "
      ]
     },
     "execution_count": 1,
     "metadata": {},
     "output_type": "execute_result"
    }
   ],
   "source": [
    "import numpy as np\n",
    "import pandas as pd\n",
    "\n",
    "booking = pd.read_csv(\"../data/booking.csv\")\n",
    "booking.describe()"
   ]
  },
  {
   "cell_type": "markdown",
   "id": "56231abd",
   "metadata": {},
   "source": [
    "## Feature Engineering"
   ]
  },
  {
   "cell_type": "markdown",
   "id": "663bb9ce",
   "metadata": {},
   "source": [
    "Ta sẽ xử lý các cột không phải là số."
   ]
  },
  {
   "cell_type": "markdown",
   "id": "07632f7c",
   "metadata": {},
   "source": [
    "1. Loại bỏ giá trị lớn nhất của cột **LeadTime** vì là outlier"
   ]
  },
  {
   "cell_type": "code",
   "execution_count": 2,
   "id": "6595fd72",
   "metadata": {},
   "outputs": [],
   "source": [
    "booking = booking[booking.LeadTime < 700]\n",
    "booking = booking.reset_index(drop=True)"
   ]
  },
  {
   "cell_type": "markdown",
   "id": "5ed0074c",
   "metadata": {},
   "source": [
    "2. Cột **Country** có quá nhiều unique value, ta sẽ map cột country với xác suất người thuộc đất nước đó huỷ booking, đồng thời bỏ các dòng giá trị nan"
   ]
  },
  {
   "cell_type": "code",
   "execution_count": 3,
   "id": "406fa68c",
   "metadata": {},
   "outputs": [],
   "source": [
    "from sklearn.base import BaseEstimator, TransformerMixin\n",
    "\n",
    "class MapCountryColumn(BaseEstimator, TransformerMixin):\n",
    "    def __init__(self): # no *args or **kargs\n",
    "        self.country_map = {}\n",
    "        \n",
    "    def fit(self, X, y):\n",
    "        vc_all = X.loc[:, 39].value_counts()\n",
    "        vc_pos = X[y==1].loc[:, 39].value_counts()\n",
    "\n",
    "        for key in vc_all.keys():\n",
    "            count_pos = vc_pos.get(key, default=0)\n",
    "            self.country_map[key] = count_pos / vc_all.get(key)\n",
    "        return self\n",
    "    \n",
    "    def transform(self, X, y=None):\n",
    "        copy = X.copy()\n",
    "        for code in copy.loc[:, 39]:\n",
    "            if code not in self.country_map:\n",
    "                self.country_map[code] = 0\n",
    "        copy.loc[:, 39] = copy.loc[:, 39].map(self.country_map)\n",
    "        return copy"
   ]
  },
  {
   "cell_type": "markdown",
   "id": "3e584323",
   "metadata": {},
   "source": [
    "3. **ReservationStatus** và **ReservationStatusDate** chứa thông tin sau khi khách trả phòng, ta bỏ 2 cột này. Bỏ cột **ArrivalDateYear**, các cột **ArrivalDateMonth**, **ArrivalDateWeekNumber**, **ArrivalDateDayOfMonth** cũng có thể bỏ nếu  chỉ tăng hiệu năng model lên không đáng kể."
   ]
  },
  {
   "cell_type": "code",
   "execution_count": 4,
   "id": "3a0d2d48",
   "metadata": {},
   "outputs": [],
   "source": [
    "cols = ['ArrivalDateYear', 'ArrivalDateMonth', 'ArrivalDateDayOfMonth', \\\n",
    "        'ArrivalDateWeekNumber', 'ReservationStatus', 'ReservationStatusDate']\n",
    "\n",
    "booking = booking.drop(cols, axis=1)"
   ]
  },
  {
   "cell_type": "markdown",
   "id": "390b7907",
   "metadata": {},
   "source": [
    "4. Đổi giá trị trong một số cột từ số thành boolean (\"có\" hay \"không\")"
   ]
  },
  {
   "cell_type": "code",
   "execution_count": 5,
   "id": "9d96ce50",
   "metadata": {},
   "outputs": [],
   "source": [
    "from sklearn.base import BaseEstimator, TransformerMixin\n",
    "\n",
    "class ToBooleanColumn(BaseEstimator, TransformerMixin):\n",
    "    def fit(self, X, y=None):\n",
    "        return self # nothing else to do \n",
    "    def transform(self, df, y=None):\n",
    "        return df.apply(lambda x : x.apply(lambda x : min(1, x)))"
   ]
  },
  {
   "cell_type": "markdown",
   "id": "d2671c8e",
   "metadata": {},
   "source": [
    "5. Tạo cột **IsDesiredRoomType**"
   ]
  },
  {
   "cell_type": "code",
   "execution_count": 6,
   "id": "67cc034b",
   "metadata": {},
   "outputs": [],
   "source": [
    "from sklearn.base import BaseEstimator, TransformerMixin\n",
    "\n",
    "class CreateIsDesiredRoomTypeColumn(BaseEstimator, TransformerMixin):\n",
    "    def fit(self, X, y=None):\n",
    "        return self # nothing else to do \n",
    "    def transform(self, booking, y=None):\n",
    "        booking['IsDesiredRoomType'] = booking.ReservedRoomType == booking.AssignedRoomType\n",
    "        booking.IsDesiredRoomType = booking.IsDesiredRoomType.astype(int)\n",
    "        return booking.drop(['ReservedRoomType', 'AssignedRoomType'], axis=1)"
   ]
  },
  {
   "cell_type": "markdown",
   "id": "7b5dbaab",
   "metadata": {},
   "source": [
    "6. One-hot encode các categorical features"
   ]
  },
  {
   "cell_type": "code",
   "execution_count": 7,
   "id": "dcd8002e",
   "metadata": {},
   "outputs": [],
   "source": [
    "booking['NumsOfStays'] = booking.loc[:,['StaysInWeekendNights','StaysInWeekNights']].sum(axis=1)\n",
    "booking['NumsOfPeople'] = booking.loc[:,['Adults','Children','Babies']].sum(axis=1)"
   ]
  },
  {
   "cell_type": "code",
   "execution_count": 8,
   "id": "436da627",
   "metadata": {},
   "outputs": [],
   "source": [
    "from sklearn.compose import ColumnTransformer\n",
    "from sklearn.pipeline import Pipeline\n",
    "from sklearn.preprocessing import StandardScaler\n",
    "from sklearn.preprocessing import OneHotEncoder\n",
    "\n",
    "cat_cols = ['MarketSegment', 'CustomerType', 'DistributionChannel', 'DepositType', \\\n",
    "        'Meal', 'HotelType']\n",
    "num_cols = ['LeadTime', 'NumsOfStays', 'NumsOfPeople', 'Agent', 'ADR']\n",
    "room_type_cols = ['ReservedRoomType', 'AssignedRoomType']\n",
    "to_bool_cols = ['DaysInWaitingList', 'RequiredCarParkingSpaces', 'TotalOfSpecialRequests', \\\n",
    "    'PreviousCancellations', 'PreviousBookingsNotCanceled', 'Company', 'BookingChanges']\n",
    "preserved_cols = ['Country']\n",
    "\n",
    "class PreserveColumn(BaseEstimator, TransformerMixin):\n",
    "    def fit(self, X, y=None):\n",
    "        return self # nothing else to do \n",
    "    def transform(self, booking, y=None):\n",
    "        return booking\n",
    "\n",
    "\n",
    "num_pipeline = Pipeline([\n",
    "        ('std_scaler', StandardScaler()),\n",
    "    ])\n",
    "\n",
    "full_pipeline = ColumnTransformer([\n",
    "     (\"num\", num_pipeline, num_cols),\n",
    "     (\"cat\", OneHotEncoder(), cat_cols),\n",
    "     (\"roomtype\", CreateIsDesiredRoomTypeColumn(), room_type_cols),\n",
    "     (\"bool\", ToBooleanColumn(), to_bool_cols),\n",
    "     (\"preserve\", PreserveColumn(), preserved_cols),\n",
    " ])\n",
    "booking_prepared = full_pipeline.fit_transform(booking)"
   ]
  },
  {
   "cell_type": "code",
   "execution_count": 10,
   "id": "18e49520",
   "metadata": {
    "scrolled": true
   },
   "outputs": [
    {
     "data": {
      "text/plain": [
       "array([[-0.9120647916993501, -0.964767588287128, -1.3519423003547675,\n",
       "        ..., 0, 0, 'GBR'],\n",
       "       [-0.8559381500015265, -0.964767588287128, -1.3519423003547675,\n",
       "        ..., 0, 0, 'GBR'],\n",
       "       [-0.8465837097185559, -0.5701279136347203, 0.038706010473094285,\n",
       "        ..., 0, 0, 'GBR'],\n",
       "       ...,\n",
       "       [-0.6594949040591442, 1.4030704596273187, 0.038706010473094285,\n",
       "        ..., 0, 0, 'DEU'],\n",
       "       [0.042088117163649526, 1.4030704596273187, 0.038706010473094285,\n",
       "        ..., 0, 0, 'GBR'],\n",
       "       [0.9401143843288255, 2.1923498089321343, 0.038706010473094285,\n",
       "        ..., 0, 0, 'DEU']], dtype=object)"
      ]
     },
     "execution_count": 10,
     "metadata": {},
     "output_type": "execute_result"
    }
   ],
   "source": [
    "booking_prepared"
   ]
  },
  {
   "cell_type": "markdown",
   "id": "9ff6b558",
   "metadata": {},
   "source": [
    "## Modeling"
   ]
  },
  {
   "cell_type": "code",
   "execution_count": 11,
   "id": "fa5b6e97",
   "metadata": {},
   "outputs": [],
   "source": [
    "from sklearn.model_selection import StratifiedShuffleSplit\n",
    "\n",
    "X = pd.DataFrame(booking_prepared)\n",
    "y = booking.IsCanceled\n",
    "\n",
    "split = StratifiedShuffleSplit(n_splits=1, test_size=0.2, random_state=41)\n",
    "for train_index, test_index in split.split(X, y):\n",
    "    X_t = X.loc[train_index]\n",
    "    y_t = y.loc[train_index]\n",
    "    X_test = X.loc[test_index]\n",
    "    y_test = y.loc[test_index]\n",
    "    \n",
    "X_t = X_t.reset_index(drop=True)\n",
    "y_t = y_t.reset_index(drop=True)\n",
    "split = StratifiedShuffleSplit(n_splits=1, test_size=0.2, random_state=24)\n",
    "for train_index, test_index in split.split(X_t, y_t):\n",
    "    X_train = X_t.loc[train_index]\n",
    "    y_train = y_t.loc[train_index]\n",
    "    X_valid = X_t.loc[test_index]\n",
    "    y_valid = y_t.loc[test_index]"
   ]
  },
  {
   "cell_type": "code",
   "execution_count": 12,
   "id": "e0a3462a",
   "metadata": {},
   "outputs": [],
   "source": [
    "from sklearn.metrics import accuracy_score\n",
    "from sklearn.metrics import precision_score\n",
    "from sklearn.metrics import recall_score\n",
    "\n",
    "def print_scores(model, X_valid, y_valid):\n",
    "    pred = model.predict(X_valid)\n",
    "    print('Accuracy: ', accuracy_score(y_valid, pred))\n",
    "    print('Precision: ', precision_score(y_valid, pred))          \n",
    "    print('Recall: ', recall_score(y_valid, pred))"
   ]
  },
  {
   "cell_type": "markdown",
   "id": "6390696c",
   "metadata": {},
   "source": [
    "### MLP"
   ]
  },
  {
   "cell_type": "code",
   "execution_count": 13,
   "id": "5c8be278",
   "metadata": {},
   "outputs": [],
   "source": [
    "from sklearn.base import BaseEstimator, RegressorMixin\n",
    "from sklearn.neural_network import MLPClassifier\n",
    "\n",
    "class MyMLP(BaseEstimator, RegressorMixin):\n",
    "    def __init__(self, hidden_layer_sizes=(100), random_state=1, max_iter=300):\n",
    "        self.mlp = MLPClassifier(hidden_layer_sizes=hidden_layer_sizes, random_state=random_state, max_iter=max_iter)\n",
    "        self.country_mapper = MapCountryColumn()\n",
    "    def fit(self, X, y):\n",
    "        self.mlp.fit(self.country_mapper.fit_transform(X, y), y)\n",
    "        return self\n",
    "\n",
    "    def predict(self, X):\n",
    "        return self.mlp.predict(self.country_mapper.transform(X))\n",
    "    \n",
    "    def predict_proba(self, X):\n",
    "        return self.mlp.predict_proba(self.country_mapper.transform(X))"
   ]
  },
  {
   "cell_type": "code",
   "execution_count": 14,
   "id": "6d692bbc",
   "metadata": {},
   "outputs": [],
   "source": [
    "mlp = MyMLP(hidden_layer_sizes=(20,20,20), random_state=2, max_iter=500).fit(X_train, y_train.values.ravel())"
   ]
  },
  {
   "cell_type": "markdown",
   "id": "b99d5ee1",
   "metadata": {},
   "source": [
    "### Ranfom Forest Classifier"
   ]
  },
  {
   "cell_type": "code",
   "execution_count": 15,
   "id": "160c6f92",
   "metadata": {},
   "outputs": [],
   "source": [
    "from sklearn.base import BaseEstimator, RegressorMixin\n",
    "from sklearn.ensemble import RandomForestClassifier\n",
    "\n",
    "class MyRandomForest(BaseEstimator, RegressorMixin):\n",
    "    def __init__(self, n_estimators=100):\n",
    "        self.rf = RandomForestClassifier(n_estimators=n_estimators)\n",
    "        self.country_mapper = MapCountryColumn()\n",
    "        \n",
    "    def fit(self, X, y):\n",
    "        self.rf.fit(self.country_mapper.fit_transform(X, y), y)\n",
    "        return self\n",
    "\n",
    "    def predict(self, X):\n",
    "        return self.rf.predict(self.country_mapper.transform(X))\n",
    "    \n",
    "    def predict_proba(self, X):\n",
    "        return self.rf.predict_proba(self.country_mapper.transform(X))"
   ]
  },
  {
   "cell_type": "code",
   "execution_count": 16,
   "id": "1334a120",
   "metadata": {},
   "outputs": [],
   "source": [
    "rf = MyRandomForest().fit(X_train, y_train.values.ravel())"
   ]
  },
  {
   "cell_type": "markdown",
   "id": "38d8f43d",
   "metadata": {},
   "source": [
    "# Evaluation"
   ]
  },
  {
   "cell_type": "code",
   "execution_count": 17,
   "id": "8b89824b",
   "metadata": {},
   "outputs": [],
   "source": [
    "def evaluate_model(model, times=5):\n",
    "    accuracy = []\n",
    "    precision = []\n",
    "    recall = []\n",
    "\n",
    "    for i in range(times):\n",
    "        split = StratifiedShuffleSplit(n_splits=1, test_size=0.2, random_state=24+i)\n",
    "        for train_index, test_index in split.split(X_t, y_t):\n",
    "            X_train = X_t.loc[train_index]\n",
    "            y_train = y_t.loc[train_index]\n",
    "            X_valid = X_t.loc[test_index]\n",
    "            y_valid = y_t.loc[test_index]\n",
    "        print(\"fitting \", i+1)\n",
    "        model.fit(X_train, y_train.values.ravel())\n",
    "        accuracy.append(accuracy_score(y_valid, model.predict(X_valid)))\n",
    "        precision.append(precision_score(y_valid, model.predict(X_valid)))    \n",
    "        recall.append(recall_score(y_valid, model.predict(X_valid)))    \n",
    "\n",
    "    print('Accuracy: ', [\"%0.2f\" % i for i in accuracy], '. Avg: ', sum(accuracy)/times)\n",
    "    print('Precision: ', [\"%0.2f\" % i for i in precision], '. Avg: ', sum(precision)/times)        \n",
    "    print('Recall: ', [\"%0.2f\" % i for i in recall], '. Avg: ', sum(recall)/times) "
   ]
  },
  {
   "cell_type": "code",
   "execution_count": null,
   "id": "312319f1",
   "metadata": {},
   "outputs": [],
   "source": [
    "evaluate_model(MyMLP(hidden_layer_sizes=(20,20,20), random_state=2, max_iter=500))"
   ]
  },
  {
   "cell_type": "code",
   "execution_count": 18,
   "id": "8a99f7aa",
   "metadata": {},
   "outputs": [
    {
     "name": "stdout",
     "output_type": "stream",
     "text": [
      "fitting  1\n",
      "fitting  2\n",
      "fitting  3\n",
      "fitting  4\n",
      "fitting  5\n",
      "Accuracy:  ['0.86', '0.86', '0.86', '0.86', '0.85'] . Avg:  0.8569817089241475\n",
      "Precision:  ['0.85', '0.84', '0.82', '0.84', '0.81'] . Avg:  0.834177634962549\n",
      "Recall:  ['0.76', '0.76', '0.78', '0.76', '0.79'] . Avg:  0.7696378041878891\n"
     ]
    }
   ],
   "source": [
    "evaluate_model(MyMLP(hidden_layer_sizes=(20,20), random_state=2, max_iter=500))"
   ]
  },
  {
   "cell_type": "code",
   "execution_count": 19,
   "id": "b5473f27",
   "metadata": {},
   "outputs": [
    {
     "data": {
      "text/plain": [
       "0.8616895097522403"
      ]
     },
     "execution_count": 19,
     "metadata": {},
     "output_type": "execute_result"
    }
   ],
   "source": [
    "accuracy_score(y_train, mlp.predict(X_train))"
   ]
  },
  {
   "cell_type": "code",
   "execution_count": 20,
   "id": "88e676cc",
   "metadata": {},
   "outputs": [
    {
     "name": "stdout",
     "output_type": "stream",
     "text": [
      "Accuracy:  0.8596278530388488\n",
      "Precision:  0.8387940316874327\n",
      "Recall:  0.771505376344086\n"
     ]
    }
   ],
   "source": [
    "print_scores(mlp, X_valid, y_valid)"
   ]
  },
  {
   "cell_type": "code",
   "execution_count": 21,
   "id": "290c3203",
   "metadata": {},
   "outputs": [
    {
     "name": "stdout",
     "output_type": "stream",
     "text": [
      "fitting  1\n",
      "fitting  2\n",
      "fitting  3\n",
      "fitting  4\n",
      "fitting  5\n",
      "Accuracy:  ['0.88', '0.88', '0.88', '0.88', '0.88'] . Avg:  0.8821148068103948\n",
      "Precision:  ['0.86', '0.86', '0.86', '0.87', '0.86'] . Avg:  0.8621721139518342\n",
      "Recall:  ['0.81', '0.81', '0.81', '0.81', '0.81'] . Avg:  0.8136672325976232\n"
     ]
    }
   ],
   "source": [
    "evaluate_model(MyRandomForest(n_estimators=50))"
   ]
  },
  {
   "cell_type": "code",
   "execution_count": null,
   "id": "d9e4c87e",
   "metadata": {},
   "outputs": [],
   "source": [
    "print_scores(rf, X_valid, y_valid)"
   ]
  },
  {
   "cell_type": "code",
   "execution_count": 22,
   "id": "9eb152b3",
   "metadata": {},
   "outputs": [
    {
     "data": {
      "image/png": "[encoded data removed]",
      "text/plain": [
       "<Figure size 640x480 with 1 Axes>"
      ]
     },
     "metadata": {},
     "output_type": "display_data"
    }
   ],
   "source": [
    "from scikitplot.metrics import plot_roc\n",
    "import matplotlib.pyplot as plt\n",
    "\n",
    "rf = MyRandomForest(n_estimators=50).fit(X_train, y_train.values.ravel())\n",
    "\n",
    "y_true = y_valid\n",
    "y_probas = rf.predict_proba(X_valid)\n",
    "plot_roc(y_true, y_probas, title='ROC Curves Random Forest')\n",
    "plt.show()"
   ]
  },
  {
   "cell_type": "code",
   "execution_count": 23,
   "id": "a23ffe31",
   "metadata": {},
   "outputs": [
    {
     "data": {
      "image/png": "[encoded data removed]",
      "text/plain": [
       "<Figure size 640x480 with 1 Axes>"
      ]
     },
     "metadata": {},
     "output_type": "display_data"
    }
   ],
   "source": [
    "mlp = MyMLP(hidden_layer_sizes=(20,20,20), random_state=2, max_iter=500).fit(X_train, y_train.values.ravel())\n",
    "\n",
    "y_true = y_valid\n",
    "y_probas = mlp.predict_proba(X_valid)\n",
    "plot_roc(y_true, y_probas, title='ROC Curves MLP')\n",
    "plt.show()"
   ]
  },
  {
   "cell_type": "code",
   "execution_count": 24,
   "id": "5e1e2184",
   "metadata": {},
   "outputs": [
    {
     "name": "stdout",
     "output_type": "stream",
     "text": [
      "MLP:  0.855986167924767\n",
      "Random Forest:  0.8830599249356893\n"
     ]
    }
   ],
   "source": [
    "print(\"MLP: \", accuracy_score(y_test, mlp.predict(X_test)))\n",
    "print(\"Random Forest: \", accuracy_score(y_test, rf.predict(X_test)))"
   ]
  }
 ],
 "metadata": {
  "kernelspec": {
   "display_name": "Python 3 (ipykernel)",
   "language": "python",
   "name": "python3"
  },
  "language_info": {
   "codemirror_mode": {
    "name": "ipython",
    "version": 3
   },
   "file_extension": ".py",
   "mimetype": "text/x-python",
   "name": "python",
   "nbconvert_exporter": "python",
   "pygments_lexer": "ipython3",
   "version": "3.10.4"
  }
 },
 "nbformat": 4,
 "nbformat_minor": 5
}
